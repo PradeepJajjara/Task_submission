{
  "nbformat": 4,
  "nbformat_minor": 0,
  "metadata": {
    "colab": {
      "name": "Muril_sample.ipynb",
      "provenance": [],
      "collapsed_sections": [],
      "toc_visible": true
    },
    "kernelspec": {
      "name": "python3",
      "display_name": "Python 3"
    },
    "accelerator": "GPU"
  },
  "cells": [
    {
      "cell_type": "code",
      "metadata": {
        "colab": {
          "base_uri": "https://localhost:8080/"
        },
        "id": "Q8Y3K7P5RkbH",
        "outputId": "c429490f-a1d6-459a-f78c-abb384b99838"
      },
      "source": [
        "\r\n",
        "!pip install bert-for-tf2\r\n",
        "!pip install tensorflow-text"
      ],
      "execution_count": 1,
      "outputs": [
        {
          "output_type": "stream",
          "text": [
            "Requirement already satisfied: bert-for-tf2 in /usr/local/lib/python3.6/dist-packages (0.14.7)\n",
            "Requirement already satisfied: params-flow>=0.8.0 in /usr/local/lib/python3.6/dist-packages (from bert-for-tf2) (0.8.2)\n",
            "Requirement already satisfied: py-params>=0.9.6 in /usr/local/lib/python3.6/dist-packages (from bert-for-tf2) (0.10.1)\n",
            "Requirement already satisfied: numpy in /usr/local/lib/python3.6/dist-packages (from params-flow>=0.8.0->bert-for-tf2) (1.19.5)\n",
            "Requirement already satisfied: tqdm in /usr/local/lib/python3.6/dist-packages (from params-flow>=0.8.0->bert-for-tf2) (4.41.1)\n",
            "Requirement already satisfied: tensorflow-text in /usr/local/lib/python3.6/dist-packages (2.4.3)\n",
            "Requirement already satisfied: tensorflow-hub>=0.8.0 in /usr/local/lib/python3.6/dist-packages (from tensorflow-text) (0.11.0)\n",
            "Requirement already satisfied: tensorflow<2.5,>=2.4.0 in /usr/local/lib/python3.6/dist-packages (from tensorflow-text) (2.4.0)\n",
            "Requirement already satisfied: protobuf>=3.8.0 in /usr/local/lib/python3.6/dist-packages (from tensorflow-hub>=0.8.0->tensorflow-text) (3.12.4)\n",
            "Requirement already satisfied: numpy>=1.12.0 in /usr/local/lib/python3.6/dist-packages (from tensorflow-hub>=0.8.0->tensorflow-text) (1.19.5)\n",
            "Requirement already satisfied: flatbuffers~=1.12.0 in /usr/local/lib/python3.6/dist-packages (from tensorflow<2.5,>=2.4.0->tensorflow-text) (1.12)\n",
            "Requirement already satisfied: six~=1.15.0 in /usr/local/lib/python3.6/dist-packages (from tensorflow<2.5,>=2.4.0->tensorflow-text) (1.15.0)\n",
            "Requirement already satisfied: opt-einsum~=3.3.0 in /usr/local/lib/python3.6/dist-packages (from tensorflow<2.5,>=2.4.0->tensorflow-text) (3.3.0)\n",
            "Requirement already satisfied: typing-extensions~=3.7.4 in /usr/local/lib/python3.6/dist-packages (from tensorflow<2.5,>=2.4.0->tensorflow-text) (3.7.4.3)\n",
            "Requirement already satisfied: absl-py~=0.10 in /usr/local/lib/python3.6/dist-packages (from tensorflow<2.5,>=2.4.0->tensorflow-text) (0.10.0)\n",
            "Requirement already satisfied: h5py~=2.10.0 in /usr/local/lib/python3.6/dist-packages (from tensorflow<2.5,>=2.4.0->tensorflow-text) (2.10.0)\n",
            "Requirement already satisfied: astunparse~=1.6.3 in /usr/local/lib/python3.6/dist-packages (from tensorflow<2.5,>=2.4.0->tensorflow-text) (1.6.3)\n",
            "Requirement already satisfied: termcolor~=1.1.0 in /usr/local/lib/python3.6/dist-packages (from tensorflow<2.5,>=2.4.0->tensorflow-text) (1.1.0)\n",
            "Requirement already satisfied: gast==0.3.3 in /usr/local/lib/python3.6/dist-packages (from tensorflow<2.5,>=2.4.0->tensorflow-text) (0.3.3)\n",
            "Requirement already satisfied: wrapt~=1.12.1 in /usr/local/lib/python3.6/dist-packages (from tensorflow<2.5,>=2.4.0->tensorflow-text) (1.12.1)\n",
            "Requirement already satisfied: grpcio~=1.32.0 in /usr/local/lib/python3.6/dist-packages (from tensorflow<2.5,>=2.4.0->tensorflow-text) (1.32.0)\n",
            "Requirement already satisfied: google-pasta~=0.2 in /usr/local/lib/python3.6/dist-packages (from tensorflow<2.5,>=2.4.0->tensorflow-text) (0.2.0)\n",
            "Requirement already satisfied: keras-preprocessing~=1.1.2 in /usr/local/lib/python3.6/dist-packages (from tensorflow<2.5,>=2.4.0->tensorflow-text) (1.1.2)\n",
            "Requirement already satisfied: tensorflow-estimator<2.5.0,>=2.4.0rc0 in /usr/local/lib/python3.6/dist-packages (from tensorflow<2.5,>=2.4.0->tensorflow-text) (2.4.0)\n",
            "Requirement already satisfied: tensorboard~=2.4 in /usr/local/lib/python3.6/dist-packages (from tensorflow<2.5,>=2.4.0->tensorflow-text) (2.4.0)\n",
            "Requirement already satisfied: wheel~=0.35 in /usr/local/lib/python3.6/dist-packages (from tensorflow<2.5,>=2.4.0->tensorflow-text) (0.36.2)\n",
            "Requirement already satisfied: setuptools in /usr/local/lib/python3.6/dist-packages (from protobuf>=3.8.0->tensorflow-hub>=0.8.0->tensorflow-text) (51.1.1)\n",
            "Requirement already satisfied: requests<3,>=2.21.0 in /usr/local/lib/python3.6/dist-packages (from tensorboard~=2.4->tensorflow<2.5,>=2.4.0->tensorflow-text) (2.23.0)\n",
            "Requirement already satisfied: google-auth<2,>=1.6.3 in /usr/local/lib/python3.6/dist-packages (from tensorboard~=2.4->tensorflow<2.5,>=2.4.0->tensorflow-text) (1.17.2)\n",
            "Requirement already satisfied: werkzeug>=0.11.15 in /usr/local/lib/python3.6/dist-packages (from tensorboard~=2.4->tensorflow<2.5,>=2.4.0->tensorflow-text) (1.0.1)\n",
            "Requirement already satisfied: google-auth-oauthlib<0.5,>=0.4.1 in /usr/local/lib/python3.6/dist-packages (from tensorboard~=2.4->tensorflow<2.5,>=2.4.0->tensorflow-text) (0.4.2)\n",
            "Requirement already satisfied: tensorboard-plugin-wit>=1.6.0 in /usr/local/lib/python3.6/dist-packages (from tensorboard~=2.4->tensorflow<2.5,>=2.4.0->tensorflow-text) (1.7.0)\n",
            "Requirement already satisfied: markdown>=2.6.8 in /usr/local/lib/python3.6/dist-packages (from tensorboard~=2.4->tensorflow<2.5,>=2.4.0->tensorflow-text) (3.3.3)\n",
            "Requirement already satisfied: urllib3!=1.25.0,!=1.25.1,<1.26,>=1.21.1 in /usr/local/lib/python3.6/dist-packages (from requests<3,>=2.21.0->tensorboard~=2.4->tensorflow<2.5,>=2.4.0->tensorflow-text) (1.24.3)\n",
            "Requirement already satisfied: chardet<4,>=3.0.2 in /usr/local/lib/python3.6/dist-packages (from requests<3,>=2.21.0->tensorboard~=2.4->tensorflow<2.5,>=2.4.0->tensorflow-text) (3.0.4)\n",
            "Requirement already satisfied: certifi>=2017.4.17 in /usr/local/lib/python3.6/dist-packages (from requests<3,>=2.21.0->tensorboard~=2.4->tensorflow<2.5,>=2.4.0->tensorflow-text) (2020.12.5)\n",
            "Requirement already satisfied: idna<3,>=2.5 in /usr/local/lib/python3.6/dist-packages (from requests<3,>=2.21.0->tensorboard~=2.4->tensorflow<2.5,>=2.4.0->tensorflow-text) (2.10)\n",
            "Requirement already satisfied: cachetools<5.0,>=2.0.0 in /usr/local/lib/python3.6/dist-packages (from google-auth<2,>=1.6.3->tensorboard~=2.4->tensorflow<2.5,>=2.4.0->tensorflow-text) (4.2.0)\n",
            "Requirement already satisfied: rsa<5,>=3.1.4; python_version >= \"3\" in /usr/local/lib/python3.6/dist-packages (from google-auth<2,>=1.6.3->tensorboard~=2.4->tensorflow<2.5,>=2.4.0->tensorflow-text) (4.6)\n",
            "Requirement already satisfied: pyasn1-modules>=0.2.1 in /usr/local/lib/python3.6/dist-packages (from google-auth<2,>=1.6.3->tensorboard~=2.4->tensorflow<2.5,>=2.4.0->tensorflow-text) (0.2.8)\n",
            "Requirement already satisfied: requests-oauthlib>=0.7.0 in /usr/local/lib/python3.6/dist-packages (from google-auth-oauthlib<0.5,>=0.4.1->tensorboard~=2.4->tensorflow<2.5,>=2.4.0->tensorflow-text) (1.3.0)\n",
            "Requirement already satisfied: importlib-metadata; python_version < \"3.8\" in /usr/local/lib/python3.6/dist-packages (from markdown>=2.6.8->tensorboard~=2.4->tensorflow<2.5,>=2.4.0->tensorflow-text) (3.3.0)\n",
            "Requirement already satisfied: pyasn1>=0.1.3 in /usr/local/lib/python3.6/dist-packages (from rsa<5,>=3.1.4; python_version >= \"3\"->google-auth<2,>=1.6.3->tensorboard~=2.4->tensorflow<2.5,>=2.4.0->tensorflow-text) (0.4.8)\n",
            "Requirement already satisfied: oauthlib>=3.0.0 in /usr/local/lib/python3.6/dist-packages (from requests-oauthlib>=0.7.0->google-auth-oauthlib<0.5,>=0.4.1->tensorboard~=2.4->tensorflow<2.5,>=2.4.0->tensorflow-text) (3.1.0)\n",
            "Requirement already satisfied: zipp>=0.5 in /usr/local/lib/python3.6/dist-packages (from importlib-metadata; python_version < \"3.8\"->markdown>=2.6.8->tensorboard~=2.4->tensorflow<2.5,>=2.4.0->tensorflow-text) (3.4.0)\n"
          ],
          "name": "stdout"
        }
      ]
    },
    {
      "cell_type": "code",
      "metadata": {
        "id": "U0yRXKG4Recj"
      },
      "source": [
        "import tensorflow as tf\r\n",
        "import tensorflow_datasets as tfds\r\n",
        "import tensorflow_hub as hub\r\n",
        "import tensorflow_text as text\r\n",
        "from bert import bert_tokenization\r\n",
        "import numpy as np\r\n",
        "from scipy.spatial import distance\r\n",
        "from sklearn.metrics.pairwise import cosine_similarity"
      ],
      "execution_count": 2,
      "outputs": []
    },
    {
      "cell_type": "code",
      "metadata": {
        "id": "LWdsKsMXRgeP"
      },
      "source": [
        "\r\n",
        "def get_model(model_url, max_seq_length):\r\n",
        "  inputs = dict(\r\n",
        "    input_word_ids=tf.keras.layers.Input(shape=(max_seq_length,), dtype=tf.int32),\r\n",
        "    input_mask=tf.keras.layers.Input(shape=(max_seq_length,), dtype=tf.int32),\r\n",
        "    input_type_ids=tf.keras.layers.Input(shape=(max_seq_length,), dtype=tf.int32),\r\n",
        "    )\r\n",
        "\r\n",
        "  muril_layer = hub.KerasLayer(model_url, trainable=True)\r\n",
        "  outputs = muril_layer(inputs)\r\n",
        "\r\n",
        "  assert 'sequence_output' in outputs\r\n",
        "  assert 'pooled_output' in outputs\r\n",
        "  assert 'encoder_outputs' in outputs\r\n",
        "  assert 'default' in outputs\r\n",
        "  return tf.keras.Model(inputs=inputs,outputs=outputs[\"pooled_output\"]), muril_layer"
      ],
      "execution_count": 3,
      "outputs": []
    },
    {
      "cell_type": "code",
      "metadata": {
        "id": "mIKFJWOrRjO3"
      },
      "source": [
        "max_seq_length = 128\r\n",
        "#muril_model, muril_layer = get_model(model_url=\"https://tfhub.dev/google/MuRIL/1\", max_seq_length=max_seq_length)\r\n",
        "path = '/content/drive/MyDrive/Interview/Jatayu/MuRIL_1'\r\n",
        "muril_model, muril_layer = get_model(\r\n",
        "    model_url=path, max_seq_length=max_seq_length)"
      ],
      "execution_count": 4,
      "outputs": []
    },
    {
      "cell_type": "code",
      "metadata": {
        "id": "I2uDsvHiRljr"
      },
      "source": [
        "vocab_file = muril_layer.resolved_object.vocab_file.asset_path.numpy()\r\n",
        "do_lower_case = muril_layer.resolved_object.do_lower_case.numpy()\r\n",
        "tokenizer = bert_tokenization.FullTokenizer(vocab_file, do_lower_case)"
      ],
      "execution_count": 5,
      "outputs": []
    },
    {
      "cell_type": "code",
      "metadata": {
        "id": "o0mUboVLRn6T"
      },
      "source": [
        "def create_input(input_strings, tokenizer, max_seq_length):\r\n",
        "  input_ids_all, input_mask_all, input_type_ids_all = [], [], []\r\n",
        "  for input_string in input_strings:\r\n",
        "    input_tokens = [\"[CLS]\"] + tokenizer.tokenize(input_string) + [\"[SEP]\"]\r\n",
        "    input_ids = tokenizer.convert_tokens_to_ids(input_tokens)\r\n",
        "    sequence_length = min(len(input_ids), max_seq_length)\r\n",
        "    \r\n",
        "    if len(input_ids) >= max_seq_length:\r\n",
        "      input_ids = input_ids[:max_seq_length]\r\n",
        "    else:\r\n",
        "      input_ids = input_ids + [0] * (max_seq_length - len(input_ids))\r\n",
        "\r\n",
        "    input_mask = [1] * sequence_length + [0] * (max_seq_length - sequence_length)\r\n",
        "\r\n",
        "    input_ids_all.append(input_ids)\r\n",
        "    input_mask_all.append(input_mask)\r\n",
        "    input_type_ids_all.append([0] * max_seq_length)\r\n",
        "  \r\n",
        "  return np.array(input_ids_all), np.array(input_mask_all), np.array(input_type_ids_all)"
      ],
      "execution_count": 6,
      "outputs": []
    },
    {
      "cell_type": "code",
      "metadata": {
        "id": "5DeDqfK5Rp25"
      },
      "source": [
        "def encode(input_text):\r\n",
        "  input_ids, input_mask, input_type_ids = create_input(input_text, \r\n",
        "                                                       tokenizer, \r\n",
        "                                                       max_seq_length)\r\n",
        "  inputs = dict(\r\n",
        "      input_word_ids=input_ids,\r\n",
        "      input_mask=input_mask,\r\n",
        "      input_type_ids=input_type_ids,\r\n",
        "  )\r\n",
        "  return muril_model(inputs)"
      ],
      "execution_count": 7,
      "outputs": []
    },
    {
      "cell_type": "code",
      "metadata": {
        "id": "7kwBCnOZRsIQ"
      },
      "source": [
        "code_mix_sentences = [\"मे घर जाऊंगा\",\"मैं घर जा रही हूँ\",\"i am going home\",'main ghar ja raha hoon','apka naam kya hai']"
      ],
      "execution_count": 8,
      "outputs": []
    },
    {
      "cell_type": "code",
      "metadata": {
        "id": "gJWniHVWRuJ2"
      },
      "source": [
        "code_mix_embedding = encode(code_mix_sentences)"
      ],
      "execution_count": 9,
      "outputs": []
    },
    {
      "cell_type": "code",
      "metadata": {
        "colab": {
          "base_uri": "https://localhost:8080/"
        },
        "id": "scntN7HdRwJt",
        "outputId": "4b2e75ca-cb5a-4575-ae9b-b5a623264ef5"
      },
      "source": [
        "dst_1 = cosine_similarity(np.array(code_mix_embedding[0]).reshape(1,-1), \r\n",
        "                           np.array(code_mix_embedding[1]).reshape(1,-1))\r\n",
        "print(\"SIMILARITY between {} & {} is {}\".format(code_mix_sentences[0],\r\n",
        "                                                code_mix_sentences[1],\r\n",
        "                                                dst_1))"
      ],
      "execution_count": 10,
      "outputs": [
        {
          "output_type": "stream",
          "text": [
            "SIMILARITY between मे घर जाऊंगा & मैं घर जा रही हूँ is [[0.99946475]]\n"
          ],
          "name": "stdout"
        }
      ]
    },
    {
      "cell_type": "code",
      "metadata": {
        "colab": {
          "base_uri": "https://localhost:8080/"
        },
        "id": "xXweiEoZRzZf",
        "outputId": "81cbb67c-c9db-4a6d-f36d-9aa785f3dd7b"
      },
      "source": [
        "dst_1 = cosine_similarity(np.array(code_mix_embedding[0]).reshape(1,-1), \r\n",
        "                           np.array(code_mix_embedding[2]).reshape(1,-1))\r\n",
        "print(\"SIMILARITY between {} & {} is {}\".format(code_mix_sentences[0],\r\n",
        "                                                code_mix_sentences[2],\r\n",
        "                                                dst_1))"
      ],
      "execution_count": 11,
      "outputs": [
        {
          "output_type": "stream",
          "text": [
            "SIMILARITY between मे घर जाऊंगा & i am going home is [[0.99958205]]\n"
          ],
          "name": "stdout"
        }
      ]
    },
    {
      "cell_type": "code",
      "metadata": {
        "id": "CpBhLG7NR1PL"
      },
      "source": [
        "new_sentences = [\"Today is cold\", \"मैंने उससे दोबारा बात नहीं की है.\", \"ਮੌਸਮ ਬਹੁਤ ਵਧੀਆ ਹੈ\", \"ఈ రోజు చాలా చల్లగా ఉంది\" ]"
      ],
      "execution_count": 12,
      "outputs": []
    },
    {
      "cell_type": "code",
      "metadata": {
        "id": "zVVpFjl7R8Xu"
      },
      "source": [
        "new_emb = encode(new_sentences)"
      ],
      "execution_count": 13,
      "outputs": []
    },
    {
      "cell_type": "code",
      "metadata": {
        "colab": {
          "base_uri": "https://localhost:8080/"
        },
        "id": "eBz7o8isTZXV",
        "outputId": "1cfc63e0-aafc-4ef9-99df-7aa627dc0d86"
      },
      "source": [
        "dst_11 = cosine_similarity(np.array(code_mix_embedding[0]).reshape(1,-1), \r\n",
        "                           np.array(code_mix_embedding[-1]).reshape(1,-1))\r\n",
        "print(\"Distance between {} & {} is {}\".format(new_sentences[0],\r\n",
        "                                                new_sentences[-1],\r\n",
        "                                                dst_11))"
      ],
      "execution_count": 14,
      "outputs": [
        {
          "output_type": "stream",
          "text": [
            "Distance between Today is cold & ఈ రోజు చాలా చల్లగా ఉంది is [[0.9990311]]\n"
          ],
          "name": "stdout"
        }
      ]
    },
    {
      "cell_type": "markdown",
      "metadata": {
        "id": "b2DaYZxtoQdr"
      },
      "source": [
        ""
      ]
    },
    {
      "cell_type": "code",
      "metadata": {
        "id": "vYhHic8TT8tI"
      },
      "source": [
        "import codecs\r\n",
        "import random\r\n",
        "\r\n",
        "import numpy as np\r\n",
        "from nltk.tokenize import word_tokenize\r\n",
        "from sklearn.feature_extraction.text import TfidfVectorizer\r\n",
        "\r\n",
        "stopwords = codecs.open(\"hindi_stopwords.txt\", \"r\", encoding='utf-8', errors='ignore').read().split('\\n')\r\n"
      ],
      "execution_count": 15,
      "outputs": []
    },
    {
      "cell_type": "code",
      "metadata": {
        "id": "kd1OGhz7SGTJ"
      },
      "source": [
        "\r\n",
        "pos_reviews = codecs.open(\"pos_hindi.txt\", \"r\", encoding='utf-8', errors='ignore').read()\r\n",
        "neg_reviews = codecs.open(\"neg_hindi.txt\", \"r\", encoding='utf-8', errors='ignore').read()\r\n",
        "documents = []\r\n",
        "pos_count = 0\r\n",
        "for i in pos_reviews.split('$'):\r\n",
        "    data = i.strip('\\n')\r\n",
        "    if data:\r\n",
        "        documents.append(data)\r\n",
        "        pos_count += 1\r\n",
        "neg_count = 0\r\n",
        "for i in neg_reviews.split('$'):\r\n",
        "    data = i.strip('\\n')\r\n",
        "    if data:\r\n",
        "        documents.append(data)\r\n",
        "        neg_count += 1\r\n"
      ],
      "execution_count": 16,
      "outputs": []
    },
    {
      "cell_type": "code",
      "metadata": {
        "id": "nL06OH1yTGzC"
      },
      "source": [
        "positive_feature_set = encode(documents[0:pos_count])"
      ],
      "execution_count": 17,
      "outputs": []
    },
    {
      "cell_type": "code",
      "metadata": {
        "id": "oCVARN1LT3tm"
      },
      "source": [
        "negative_set = encode(documents[pos_count:])"
      ],
      "execution_count": 18,
      "outputs": []
    },
    {
      "cell_type": "code",
      "metadata": {
        "colab": {
          "base_uri": "https://localhost:8080/"
        },
        "id": "PBMC2mYFOIs0",
        "outputId": "48f3103a-4c28-45a2-952a-9ac75b979878"
      },
      "source": [
        "SAMP_POS = np.array(positive_feature_set[0]).reshape(1,-1)\r\n",
        "SAMP_POS.shape"
      ],
      "execution_count": 19,
      "outputs": [
        {
          "output_type": "execute_result",
          "data": {
            "text/plain": [
              "(1, 768)"
            ]
          },
          "metadata": {
            "tags": []
          },
          "execution_count": 19
        }
      ]
    },
    {
      "cell_type": "code",
      "metadata": {
        "id": "hfjPc80DTUzI"
      },
      "source": [
        "pos_set = positive_feature_set.numpy()\r\n",
        "neg_set = negative_set.numpy()"
      ],
      "execution_count": 20,
      "outputs": []
    },
    {
      "cell_type": "code",
      "metadata": {
        "colab": {
          "base_uri": "https://localhost:8080/"
        },
        "id": "rJ3n6eYyTOkr",
        "outputId": "2109ff8c-3aeb-4ec4-9bd4-dca9c45a5814"
      },
      "source": [
        "print(positive_feature_set.shape)\r\n",
        "print(negative_set.shape)"
      ],
      "execution_count": 21,
      "outputs": [
        {
          "output_type": "stream",
          "text": [
            "(502, 768)\n",
            "(494, 768)\n"
          ],
          "name": "stdout"
        }
      ]
    },
    {
      "cell_type": "code",
      "metadata": {
        "colab": {
          "base_uri": "https://localhost:8080/"
        },
        "id": "wEvv_09oS24U",
        "outputId": "0a926b08-0061-45d1-f867-947730a82ae3"
      },
      "source": [
        "\r\n",
        "finalset = []\r\n",
        "for i in pos_set:\r\n",
        "    finalset.append([i, 1])\r\n",
        "for i in neg_set:\r\n",
        "    finalset.append([i, 0])\r\n",
        "\r\n",
        "finalset = np.array(finalset)\r\n",
        "random.shuffle(finalset)\r\n",
        "test_size = 0.2\r\n",
        "testing_size = int((1 - test_size) * len(finalset))\r\n",
        "x_train = list(finalset[:, 0][:testing_size])  # taking features array upto testing_size\r\n",
        "y_train = list(finalset[:, 1][:testing_size])\r\n",
        "x_test = list(finalset[:, 0][testing_size:])\r\n",
        "y_test = list(finalset[:, 1][testing_size:])"
      ],
      "execution_count": 22,
      "outputs": [
        {
          "output_type": "stream",
          "text": [
            "/usr/local/lib/python3.6/dist-packages/ipykernel_launcher.py:8: VisibleDeprecationWarning: Creating an ndarray from ragged nested sequences (which is a list-or-tuple of lists-or-tuples-or ndarrays with different lengths or shapes) is deprecated. If you meant to do this, you must specify 'dtype=object' when creating the ndarray\n",
            "  \n"
          ],
          "name": "stderr"
        }
      ]
    },
    {
      "cell_type": "code",
      "metadata": {
        "id": "E1yu_5YAVXCS"
      },
      "source": [
        "from sklearn.linear_model import LogisticRegression\r\n",
        "from sklearn import metrics\r\n",
        "from sklearn.metrics import confusion_matrix"
      ],
      "execution_count": 23,
      "outputs": []
    },
    {
      "cell_type": "code",
      "metadata": {
        "colab": {
          "base_uri": "https://localhost:8080/"
        },
        "id": "b6oYZzWsV5oJ",
        "outputId": "83bbea26-c832-40ed-b65c-432e9b67590a"
      },
      "source": [
        "\r\n",
        "lr=LogisticRegression(C=0.01,solver='liblinear').fit(x_train,y_train)\r\n",
        "lr\r\n"
      ],
      "execution_count": 24,
      "outputs": [
        {
          "output_type": "execute_result",
          "data": {
            "text/plain": [
              "LogisticRegression(C=0.01, class_weight=None, dual=False, fit_intercept=True,\n",
              "                   intercept_scaling=1, l1_ratio=None, max_iter=100,\n",
              "                   multi_class='auto', n_jobs=None, penalty='l2',\n",
              "                   random_state=None, solver='liblinear', tol=0.0001, verbose=0,\n",
              "                   warm_start=False)"
            ]
          },
          "metadata": {
            "tags": []
          },
          "execution_count": 24
        }
      ]
    },
    {
      "cell_type": "code",
      "metadata": {
        "id": "GxlNKpRGV7VV",
        "colab": {
          "base_uri": "https://localhost:8080/"
        },
        "outputId": "d1105c0f-645c-4635-c04e-8386e7181a2d"
      },
      "source": [
        "y_lr=lr.predict(x_test)\r\n",
        "y_lr[:1000]"
      ],
      "execution_count": 25,
      "outputs": [
        {
          "output_type": "execute_result",
          "data": {
            "text/plain": [
              "array([1, 1, 1, 1, 1, 1, 1, 1, 1, 1, 1, 1, 1, 1, 1, 1, 1, 1, 1, 1, 1, 1,\n",
              "       1, 1, 1, 1, 1, 1, 1, 1, 1, 1, 1, 1, 1, 1, 1, 1, 1, 1, 1, 1, 1, 1,\n",
              "       1, 1, 1, 1, 1, 1, 1, 1, 1, 1, 1, 1, 1, 1, 1, 1, 1, 1, 1, 1, 1, 1,\n",
              "       1, 1, 1, 1, 1, 1, 1, 1, 1, 1, 1, 1, 1, 1, 1, 1, 1, 1, 1, 1, 1, 1,\n",
              "       1, 1, 1, 1, 1, 1, 1, 1, 1, 1, 1, 1, 1, 1, 1, 1, 1, 1, 1, 1, 1, 1,\n",
              "       1, 1, 1, 1, 1, 1, 1, 1, 1, 1, 1, 1, 1, 1, 1, 1, 1, 1, 1, 1, 1, 1,\n",
              "       1, 1, 1, 1, 1, 1, 1, 1, 1, 1, 1, 1, 1, 1, 1, 1, 1, 1, 1, 1, 1, 1,\n",
              "       1, 1, 1, 1, 1, 1, 1, 1, 1, 1, 1, 1, 1, 1, 1, 1, 1, 1, 1, 1, 1, 1,\n",
              "       1, 1, 1, 1, 1, 1, 1, 1, 1, 1, 1, 1, 1, 1, 1, 1, 1, 1, 1, 1, 1, 1,\n",
              "       1, 1])"
            ]
          },
          "metadata": {
            "tags": []
          },
          "execution_count": 25
        }
      ]
    },
    {
      "cell_type": "markdown",
      "metadata": {
        "id": "subJ_QBxo3JI"
      },
      "source": [
        "syntax gutru led"
      ]
    },
    {
      "cell_type": "code",
      "metadata": {
        "id": "au7Lj8CrV_PH",
        "colab": {
          "base_uri": "https://localhost:8080/"
        },
        "outputId": "499f60d1-dbfc-4501-dc56-145df5b1703b"
      },
      "source": [
        "\r\n",
        "print('Model Accuracy:', metrics.accuracy_score(y_test,y_lr))\r\n"
      ],
      "execution_count": 26,
      "outputs": [
        {
          "output_type": "stream",
          "text": [
            "Model Accuracy: 0.53\n"
          ],
          "name": "stdout"
        }
      ]
    },
    {
      "cell_type": "code",
      "metadata": {
        "id": "EGWwZ93sWFRF"
      },
      "source": [
        "from sklearn.ensemble import RandomForestClassifier\r\n",
        "from sklearn.model_selection import cross_val_score, GridSearchCV, RandomizedSearchCV, StratifiedKFold\r\n",
        "rnd_state = 42\r\n",
        "skfold = StratifiedKFold(n_splits=5)"
      ],
      "execution_count": 27,
      "outputs": []
    },
    {
      "cell_type": "code",
      "metadata": {
        "id": "TlfoenBusKwv",
        "colab": {
          "base_uri": "https://localhost:8080/"
        },
        "outputId": "2f07a6e6-bcbe-475e-a716-a9f9c32409a7"
      },
      "source": [
        "from sklearn.metrics import accuracy_score, recall_score, classification_report, roc_curve, auc, roc_auc_score,jaccard_similarity_score,f1_score\n",
        "forest_clf = RandomForestClassifier(random_state=rnd_state, n_estimators=10)\n",
        "forest_clf.fit (x_train, y_train)\n",
        "forest_pred = forest_clf.predict(x_test)\n",
        "print(accuracy_score(y_test,forest_pred))"
      ],
      "execution_count": 28,
      "outputs": [
        {
          "output_type": "stream",
          "text": [
            "0.6\n"
          ],
          "name": "stdout"
        }
      ]
    },
    {
      "cell_type": "code",
      "metadata": {
        "colab": {
          "base_uri": "https://localhost:8080/"
        },
        "id": "XS0k0OKLWMax",
        "outputId": "58328d49-d4a9-441a-b2ec-3fd898de42e6"
      },
      "source": [
        "from scipy.stats import randint\r\n",
        "param_distribs = {\r\n",
        "        'n_estimators': randint(low=100, high=300),\r\n",
        "        'max_features': randint(low=8, high=17),\r\n",
        "    }\r\n",
        "\r\n",
        "rnd_forest_clf = RandomizedSearchCV(forest_clf, param_distributions=param_distribs,\r\n",
        "                                n_iter=10, cv=skfold, scoring='accuracy', random_state=rnd_state)\r\n",
        "rnd_forest_clf.fit(x_train, y_train)"
      ],
      "execution_count": 29,
      "outputs": [
        {
          "output_type": "execute_result",
          "data": {
            "text/plain": [
              "RandomizedSearchCV(cv=StratifiedKFold(n_splits=5, random_state=None, shuffle=False),\n",
              "                   error_score=nan,\n",
              "                   estimator=RandomForestClassifier(bootstrap=True,\n",
              "                                                    ccp_alpha=0.0,\n",
              "                                                    class_weight=None,\n",
              "                                                    criterion='gini',\n",
              "                                                    max_depth=None,\n",
              "                                                    max_features='auto',\n",
              "                                                    max_leaf_nodes=None,\n",
              "                                                    max_samples=None,\n",
              "                                                    min_impurity_decrease=0.0,\n",
              "                                                    min_impurity_split=None,\n",
              "                                                    min_samples_leaf=1,\n",
              "                                                    min_samples_sp...\n",
              "                                                    warm_start=False),\n",
              "                   iid='deprecated', n_iter=10, n_jobs=None,\n",
              "                   param_distributions={'max_features': <scipy.stats._distn_infrastructure.rv_frozen object at 0x7fa7f1886be0>,\n",
              "                                        'n_estimators': <scipy.stats._distn_infrastructure.rv_frozen object at 0x7fa7f1886278>},\n",
              "                   pre_dispatch='2*n_jobs', random_state=42, refit=True,\n",
              "                   return_train_score=False, scoring='accuracy', verbose=0)"
            ]
          },
          "metadata": {
            "tags": []
          },
          "execution_count": 29
        }
      ]
    },
    {
      "cell_type": "code",
      "metadata": {
        "colab": {
          "base_uri": "https://localhost:8080/"
        },
        "id": "xfwZVFMaWj1F",
        "outputId": "6238644b-9f20-4f76-859d-082be8b1dd3f"
      },
      "source": [
        "rnd_forest_clf.best_params_"
      ],
      "execution_count": 30,
      "outputs": [
        {
          "output_type": "execute_result",
          "data": {
            "text/plain": [
              "{'max_features': 14, 'n_estimators': 279}"
            ]
          },
          "metadata": {
            "tags": []
          },
          "execution_count": 30
        }
      ]
    },
    {
      "cell_type": "code",
      "metadata": {
        "colab": {
          "base_uri": "https://localhost:8080/"
        },
        "id": "ivcBNfSPW8Pv",
        "outputId": "3cf32f7b-c55d-4f81-86c6-73bc2f5453e4"
      },
      "source": [
        "from sklearn.metrics import accuracy_score, recall_score, classification_report, roc_curve, auc, roc_auc_score,jaccard_similarity_score,f1_score\r\n",
        "forest_clf = RandomForestClassifier(random_state=rnd_state, n_estimators=203,max_features=11)\r\n",
        "forest_clf.fit (x_train, y_train)\r\n",
        "forest_pred = forest_clf.predict(x_test)\r\n",
        "print(classification_report(y_test,forest_pred))"
      ],
      "execution_count": 31,
      "outputs": [
        {
          "output_type": "stream",
          "text": [
            "              precision    recall  f1-score   support\n",
            "\n",
            "           0       1.00      0.14      0.24        94\n",
            "           1       0.57      1.00      0.72       106\n",
            "\n",
            "    accuracy                           0.59       200\n",
            "   macro avg       0.78      0.57      0.48       200\n",
            "weighted avg       0.77      0.59      0.50       200\n",
            "\n"
          ],
          "name": "stdout"
        }
      ]
    },
    {
      "cell_type": "code",
      "metadata": {
        "colab": {
          "base_uri": "https://localhost:8080/"
        },
        "id": "0V3xJVEQR7Lw",
        "outputId": "b1e6356e-0d7c-4204-dc4e-f7cb736307a4"
      },
      "source": [
        "print(accuracy_score(forest_pred,y_test))"
      ],
      "execution_count": 32,
      "outputs": [
        {
          "output_type": "stream",
          "text": [
            "0.595\n"
          ],
          "name": "stdout"
        }
      ]
    },
    {
      "cell_type": "code",
      "metadata": {
        "colab": {
          "base_uri": "https://localhost:8080/"
        },
        "id": "Cf-MkX1CRy7i",
        "outputId": "f6b20ec7-e8fb-4488-92e4-905f82e0ae25"
      },
      "source": [
        "print(confusion_matrix(y_test,forest_pred))"
      ],
      "execution_count": 33,
      "outputs": [
        {
          "output_type": "stream",
          "text": [
            "[[ 13  81]\n",
            " [  0 106]]\n"
          ],
          "name": "stdout"
        }
      ]
    },
    {
      "cell_type": "code",
      "metadata": {
        "id": "Y-qKeRflScd9"
      },
      "source": [
        "import pickle\r\n",
        "\r\n",
        "filename = 'random_forest.pkl'\r\n",
        "pickle.dump(forest_clf, open(filename, 'wb'))"
      ],
      "execution_count": 34,
      "outputs": []
    },
    {
      "cell_type": "code",
      "metadata": {
        "id": "N1k2m0l6XB7c"
      },
      "source": [
        "import tensorflow as tf\r\n",
        "import tempfile\r\n",
        "import zipfile\r\n",
        "import os\r\n",
        "import h5py\r\n",
        "import numpy as np\r\n",
        "import glob\r\n",
        "from numpy import linalg as LA\r\n",
        "from scipy.stats import rankdata\r\n",
        "from shutil import copyfile, move\r\n",
        "import matplotlib.pyplot as plt\r\n",
        "from keras.models import Sequential\r\n",
        "from keras.layers import Dense, Dropout, Flatten , InputLayer\r\n",
        "from keras.layers import Conv2D, MaxPooling2D\r\n",
        "from tensorflow.keras.preprocessing.sequence import pad_sequences"
      ],
      "execution_count": 35,
      "outputs": []
    },
    {
      "cell_type": "code",
      "metadata": {
        "id": "luq2bpBpo_Sa"
      },
      "source": [
        "positive_feature_set = encode(documents[0:pos_count])\r\n",
        "negative_set = encode(documents[pos_count:])"
      ],
      "execution_count": 36,
      "outputs": []
    },
    {
      "cell_type": "code",
      "metadata": {
        "colab": {
          "base_uri": "https://localhost:8080/"
        },
        "id": "QXafg_jdWjTI",
        "outputId": "f0d16d0d-0a47-4473-d379-34987836fbbb"
      },
      "source": [
        "finalset = []\r\n",
        "for i in positive_feature_set:\r\n",
        "    finalset.append([np.array(i).reshape((1,768)).tolist(), 1])\r\n",
        "for i in negative_set:\r\n",
        "    finalset.append([np.array(i).reshape((1,768)).tolist(), 0])\r\n",
        "\r\n",
        "finalset = np.array(finalset)\r\n",
        "random.shuffle(finalset)\r\n",
        "test_size = 0.2\r\n",
        "testing_size = int((1 - test_size) * len(finalset))\r\n",
        "x_train = np.array(finalset[:, 0][:testing_size]).tolist()  # taking features array upto testing_size\r\n",
        "y_train = np.array(finalset[:, 1][:testing_size]).tolist()\r\n",
        "x_test = np.array(finalset[:, 0][testing_size:]).tolist()\r\n",
        "y_test = np.array(finalset[:, 1][testing_size:]).tolist()"
      ],
      "execution_count": 40,
      "outputs": [
        {
          "output_type": "stream",
          "text": [
            "/usr/local/lib/python3.6/dist-packages/ipykernel_launcher.py:7: VisibleDeprecationWarning: Creating an ndarray from ragged nested sequences (which is a list-or-tuple of lists-or-tuples-or ndarrays with different lengths or shapes) is deprecated. If you meant to do this, you must specify 'dtype=object' when creating the ndarray\n",
            "  import sys\n"
          ],
          "name": "stderr"
        }
      ]
    },
    {
      "cell_type": "code",
      "metadata": {
        "colab": {
          "base_uri": "https://localhost:8080/"
        },
        "id": "5Mww7je0XFLE",
        "outputId": "4670e357-ae97-4148-e1ca-28e48a943d97"
      },
      "source": [
        "# Define the model(Sequential)\r\n",
        "model = tf.keras.models.Sequential()\r\n",
        "model.add(tf.keras.layers.Dense(128, input_shape =  (1,768)))\r\n",
        "model.add(tf.keras.layers.Dense(128, activation=tf.nn.relu))\r\n",
        "model.add(tf.keras.layers.Dense(2,activation=tf.nn.softmax))\r\n",
        "model.summary()"
      ],
      "execution_count": 41,
      "outputs": [
        {
          "output_type": "stream",
          "text": [
            "Model: \"sequential\"\n",
            "_________________________________________________________________\n",
            "Layer (type)                 Output Shape              Param #   \n",
            "=================================================================\n",
            "dense (Dense)                (None, 1, 128)            98432     \n",
            "_________________________________________________________________\n",
            "dense_1 (Dense)              (None, 1, 128)            16512     \n",
            "_________________________________________________________________\n",
            "dense_2 (Dense)              (None, 1, 2)              258       \n",
            "=================================================================\n",
            "Total params: 115,202\n",
            "Trainable params: 115,202\n",
            "Non-trainable params: 0\n",
            "_________________________________________________________________\n"
          ],
          "name": "stdout"
        }
      ]
    },
    {
      "cell_type": "code",
      "metadata": {
        "id": "1IONe8qIXug7"
      },
      "source": [
        "model.compile(\r\n",
        "    loss=tf.keras.losses.binary_crossentropy,\r\n",
        "    optimizer='adam',\r\n",
        "    metrics=['accuracy'])\r\n"
      ],
      "execution_count": 42,
      "outputs": []
    },
    {
      "cell_type": "code",
      "metadata": {
        "colab": {
          "base_uri": "https://localhost:8080/"
        },
        "id": "MVLtgz-xX9Cz",
        "outputId": "5e87483d-f1fa-4413-bf7d-72028b3f6e0e"
      },
      "source": [
        "#ready for erro\r\n",
        "model.fit(x_train, y_train,\r\n",
        "          batch_size=16,\r\n",
        "          epochs=75\r\n",
        "          )"
      ],
      "execution_count": 43,
      "outputs": [
        {
          "output_type": "stream",
          "text": [
            "Epoch 1/75\n",
            "50/50 [==============================] - 1s 5ms/step - loss: 0.6932 - accuracy: 0.5443\n",
            "Epoch 2/75\n",
            "50/50 [==============================] - 0s 5ms/step - loss: 0.6931 - accuracy: 0.5636\n",
            "Epoch 3/75\n",
            "50/50 [==============================] - 0s 5ms/step - loss: 0.6931 - accuracy: 0.4878\n",
            "Epoch 4/75\n",
            "50/50 [==============================] - 0s 5ms/step - loss: 0.6931 - accuracy: 0.4871\n",
            "Epoch 5/75\n",
            "50/50 [==============================] - 0s 5ms/step - loss: 0.6931 - accuracy: 0.5256\n",
            "Epoch 6/75\n",
            "50/50 [==============================] - 0s 5ms/step - loss: 0.6931 - accuracy: 0.5270\n",
            "Epoch 7/75\n",
            "50/50 [==============================] - 0s 5ms/step - loss: 0.6931 - accuracy: 0.5158\n",
            "Epoch 8/75\n",
            "50/50 [==============================] - 0s 5ms/step - loss: 0.6931 - accuracy: 0.5133\n",
            "Epoch 9/75\n",
            "50/50 [==============================] - 0s 5ms/step - loss: 0.6931 - accuracy: 0.5481\n",
            "Epoch 10/75\n",
            "50/50 [==============================] - 0s 5ms/step - loss: 0.6931 - accuracy: 0.5847\n",
            "Epoch 11/75\n",
            "50/50 [==============================] - 0s 5ms/step - loss: 0.6931 - accuracy: 0.5678\n",
            "Epoch 12/75\n",
            "50/50 [==============================] - 0s 5ms/step - loss: 0.6931 - accuracy: 0.4592\n",
            "Epoch 13/75\n",
            "50/50 [==============================] - 0s 5ms/step - loss: 0.6931 - accuracy: 0.5042\n",
            "Epoch 14/75\n",
            "50/50 [==============================] - 0s 5ms/step - loss: 0.6931 - accuracy: 0.5424\n",
            "Epoch 15/75\n",
            "50/50 [==============================] - 0s 5ms/step - loss: 0.6931 - accuracy: 0.5368\n",
            "Epoch 16/75\n",
            "50/50 [==============================] - 0s 4ms/step - loss: 0.6931 - accuracy: 0.4802\n",
            "Epoch 17/75\n",
            "50/50 [==============================] - 0s 5ms/step - loss: 0.6931 - accuracy: 0.4855\n",
            "Epoch 18/75\n",
            "50/50 [==============================] - 0s 5ms/step - loss: 0.6931 - accuracy: 0.5088\n",
            "Epoch 19/75\n",
            "50/50 [==============================] - 0s 5ms/step - loss: 0.6931 - accuracy: 0.4736\n",
            "Epoch 20/75\n",
            "50/50 [==============================] - 0s 5ms/step - loss: 0.6931 - accuracy: 0.4580\n",
            "Epoch 21/75\n",
            "50/50 [==============================] - 0s 5ms/step - loss: 0.6931 - accuracy: 0.5050\n",
            "Epoch 22/75\n",
            "50/50 [==============================] - 0s 5ms/step - loss: 0.6931 - accuracy: 0.4661\n",
            "Epoch 23/75\n",
            "50/50 [==============================] - 0s 5ms/step - loss: 0.6931 - accuracy: 0.5318\n",
            "Epoch 24/75\n",
            "50/50 [==============================] - 0s 5ms/step - loss: 0.6931 - accuracy: 0.5095\n",
            "Epoch 25/75\n",
            "50/50 [==============================] - 0s 5ms/step - loss: 0.6931 - accuracy: 0.5019\n",
            "Epoch 26/75\n",
            "50/50 [==============================] - 0s 5ms/step - loss: 0.6931 - accuracy: 0.4975\n",
            "Epoch 27/75\n",
            "50/50 [==============================] - 0s 5ms/step - loss: 0.6931 - accuracy: 0.4952\n",
            "Epoch 28/75\n",
            "50/50 [==============================] - 0s 5ms/step - loss: 0.6931 - accuracy: 0.4871\n",
            "Epoch 29/75\n",
            "50/50 [==============================] - 0s 5ms/step - loss: 0.6931 - accuracy: 0.5154\n",
            "Epoch 30/75\n",
            "50/50 [==============================] - 0s 5ms/step - loss: 0.6931 - accuracy: 0.4988\n",
            "Epoch 31/75\n",
            "50/50 [==============================] - 0s 5ms/step - loss: 0.6931 - accuracy: 0.5277\n",
            "Epoch 32/75\n",
            "50/50 [==============================] - 0s 5ms/step - loss: 0.6931 - accuracy: 0.4813\n",
            "Epoch 33/75\n",
            "50/50 [==============================] - 0s 5ms/step - loss: 0.6931 - accuracy: 0.5287\n",
            "Epoch 34/75\n",
            "50/50 [==============================] - 0s 5ms/step - loss: 0.6931 - accuracy: 0.5168\n",
            "Epoch 35/75\n",
            "50/50 [==============================] - 0s 4ms/step - loss: 0.6931 - accuracy: 0.5252\n",
            "Epoch 36/75\n",
            "50/50 [==============================] - 0s 5ms/step - loss: 0.6931 - accuracy: 0.4638\n",
            "Epoch 37/75\n",
            "50/50 [==============================] - 0s 4ms/step - loss: 0.6931 - accuracy: 0.4777\n",
            "Epoch 38/75\n",
            "50/50 [==============================] - 0s 5ms/step - loss: 0.6931 - accuracy: 0.5364\n",
            "Epoch 39/75\n",
            "50/50 [==============================] - 0s 5ms/step - loss: 0.6931 - accuracy: 0.5223\n",
            "Epoch 40/75\n",
            "50/50 [==============================] - 0s 5ms/step - loss: 0.6931 - accuracy: 0.4844\n",
            "Epoch 41/75\n",
            "50/50 [==============================] - 0s 5ms/step - loss: 0.6931 - accuracy: 0.5253\n",
            "Epoch 42/75\n",
            "50/50 [==============================] - 0s 5ms/step - loss: 0.6931 - accuracy: 0.5139\n",
            "Epoch 43/75\n",
            "50/50 [==============================] - 0s 5ms/step - loss: 0.6931 - accuracy: 0.5577\n",
            "Epoch 44/75\n",
            "50/50 [==============================] - 0s 5ms/step - loss: 0.6931 - accuracy: 0.4965\n",
            "Epoch 45/75\n",
            "50/50 [==============================] - 0s 5ms/step - loss: 0.6931 - accuracy: 0.4969\n",
            "Epoch 46/75\n",
            "50/50 [==============================] - 0s 5ms/step - loss: 0.6931 - accuracy: 0.4945\n",
            "Epoch 47/75\n",
            "50/50 [==============================] - 0s 5ms/step - loss: 0.6931 - accuracy: 0.4693\n",
            "Epoch 48/75\n",
            "50/50 [==============================] - 0s 4ms/step - loss: 0.6931 - accuracy: 0.4569\n",
            "Epoch 49/75\n",
            "50/50 [==============================] - 0s 5ms/step - loss: 0.6931 - accuracy: 0.5497\n",
            "Epoch 50/75\n",
            "50/50 [==============================] - 0s 5ms/step - loss: 0.6931 - accuracy: 0.4620\n",
            "Epoch 51/75\n",
            "50/50 [==============================] - 0s 5ms/step - loss: 0.6931 - accuracy: 0.4573\n",
            "Epoch 52/75\n",
            "50/50 [==============================] - 0s 5ms/step - loss: 0.6931 - accuracy: 0.4923\n",
            "Epoch 53/75\n",
            "50/50 [==============================] - 0s 5ms/step - loss: 0.6931 - accuracy: 0.4886\n",
            "Epoch 54/75\n",
            "50/50 [==============================] - 0s 5ms/step - loss: 0.6931 - accuracy: 0.5262\n",
            "Epoch 55/75\n",
            "50/50 [==============================] - 0s 5ms/step - loss: 0.6931 - accuracy: 0.5059\n",
            "Epoch 56/75\n",
            "50/50 [==============================] - 0s 5ms/step - loss: 0.6931 - accuracy: 0.5457\n",
            "Epoch 57/75\n",
            "50/50 [==============================] - 0s 5ms/step - loss: 0.6931 - accuracy: 0.5160\n",
            "Epoch 58/75\n",
            "50/50 [==============================] - 0s 5ms/step - loss: 0.6931 - accuracy: 0.5269\n",
            "Epoch 59/75\n",
            "50/50 [==============================] - 0s 5ms/step - loss: 0.6931 - accuracy: 0.4924\n",
            "Epoch 60/75\n",
            "50/50 [==============================] - 0s 5ms/step - loss: 0.6931 - accuracy: 0.4548\n",
            "Epoch 61/75\n",
            "50/50 [==============================] - 0s 5ms/step - loss: 0.6931 - accuracy: 0.4350\n",
            "Epoch 62/75\n",
            "50/50 [==============================] - 0s 5ms/step - loss: 0.6931 - accuracy: 0.4556\n",
            "Epoch 63/75\n",
            "50/50 [==============================] - 0s 5ms/step - loss: 0.6931 - accuracy: 0.5191\n",
            "Epoch 64/75\n",
            "50/50 [==============================] - 0s 5ms/step - loss: 0.6931 - accuracy: 0.4782\n",
            "Epoch 65/75\n",
            "50/50 [==============================] - 0s 5ms/step - loss: 0.6931 - accuracy: 0.4765\n",
            "Epoch 66/75\n",
            "50/50 [==============================] - 0s 5ms/step - loss: 0.6931 - accuracy: 0.5171\n",
            "Epoch 67/75\n",
            "50/50 [==============================] - 0s 5ms/step - loss: 0.6931 - accuracy: 0.4893\n",
            "Epoch 68/75\n",
            "50/50 [==============================] - 0s 5ms/step - loss: 0.6931 - accuracy: 0.4707\n",
            "Epoch 69/75\n",
            "50/50 [==============================] - 0s 4ms/step - loss: 0.6931 - accuracy: 0.4992\n",
            "Epoch 70/75\n",
            "50/50 [==============================] - 0s 5ms/step - loss: 0.6931 - accuracy: 0.5092\n",
            "Epoch 71/75\n",
            "50/50 [==============================] - 0s 5ms/step - loss: 0.6931 - accuracy: 0.4553\n",
            "Epoch 72/75\n",
            "50/50 [==============================] - 0s 5ms/step - loss: 0.6931 - accuracy: 0.5703\n",
            "Epoch 73/75\n",
            "50/50 [==============================] - 0s 5ms/step - loss: 0.6931 - accuracy: 0.4519\n",
            "Epoch 74/75\n",
            "50/50 [==============================] - 0s 5ms/step - loss: 0.6931 - accuracy: 0.4951\n",
            "Epoch 75/75\n",
            "50/50 [==============================] - 0s 5ms/step - loss: 0.6931 - accuracy: 0.4836\n"
          ],
          "name": "stdout"
        },
        {
          "output_type": "execute_result",
          "data": {
            "text/plain": [
              "<tensorflow.python.keras.callbacks.History at 0x7fa7e9fef240>"
            ]
          },
          "metadata": {
            "tags": []
          },
          "execution_count": 43
        }
      ]
    },
    {
      "cell_type": "code",
      "metadata": {
        "colab": {
          "base_uri": "https://localhost:8080/"
        },
        "id": "lAy91kEFYANV",
        "outputId": "44bc17e6-95da-4e77-b883-22c43bfd6784"
      },
      "source": [
        "\r\n",
        "score = model.evaluate(x_test, y_test, verbose=0)\r\n",
        "print('Test loss:', score[0])\r\n",
        "print('Test accuracy:', score[1])"
      ],
      "execution_count": 44,
      "outputs": [
        {
          "output_type": "stream",
          "text": [
            "Test loss: 0.6931469440460205\n",
            "Test accuracy: 0.41499999165534973\n"
          ],
          "name": "stdout"
        }
      ]
    },
    {
      "cell_type": "code",
      "metadata": {
        "id": "liRI5JU1zrtb"
      },
      "source": [
        "y_preds = model.predict(x_test)"
      ],
      "execution_count": 45,
      "outputs": []
    },
    {
      "cell_type": "code",
      "metadata": {
        "colab": {
          "base_uri": "https://localhost:8080/"
        },
        "id": "RozgWsGazylj",
        "outputId": "83fc6bcf-2b60-43cc-99e5-fb4827abbd35"
      },
      "source": [
        "y_preds[:3]"
      ],
      "execution_count": 46,
      "outputs": [
        {
          "output_type": "execute_result",
          "data": {
            "text/plain": [
              "array([[[0.500055  , 0.49994498]],\n",
              "\n",
              "       [[0.5000353 , 0.4999647 ]],\n",
              "\n",
              "       [[0.5000612 , 0.4999388 ]]], dtype=float32)"
            ]
          },
          "metadata": {
            "tags": []
          },
          "execution_count": 46
        }
      ]
    },
    {
      "cell_type": "code",
      "metadata": {
        "colab": {
          "base_uri": "https://localhost:8080/"
        },
        "id": "3_jOKx7Cz5J2",
        "outputId": "be635666-6a3a-411a-a26c-bcd35073222e"
      },
      "source": [
        "from sklearn.metrics import classification_report,confusion_matrix\r\n",
        "y_preds = model.predict_classes(x_test)\r\n",
        "print(confusion_matrix(y_preds,y_test))\r\n",
        "print(classification_report(y_preds,y_test))"
      ],
      "execution_count": 47,
      "outputs": [
        {
          "output_type": "stream",
          "text": [
            "/usr/local/lib/python3.6/dist-packages/tensorflow/python/keras/engine/sequential.py:450: UserWarning: `model.predict_classes()` is deprecated and will be removed after 2021-01-01. Please use instead:* `np.argmax(model.predict(x), axis=-1)`,   if your model does multi-class classification   (e.g. if it uses a `softmax` last-layer activation).* `(model.predict(x) > 0.5).astype(\"int32\")`,   if your model does binary classification   (e.g. if it uses a `sigmoid` last-layer activation).\n",
            "  warnings.warn('`model.predict_classes()` is deprecated and '\n"
          ],
          "name": "stderr"
        },
        {
          "output_type": "stream",
          "text": [
            "[[ 80 115]\n",
            " [  2   3]]\n",
            "              precision    recall  f1-score   support\n",
            "\n",
            "           0       0.98      0.41      0.58       195\n",
            "           1       0.03      0.60      0.05         5\n",
            "\n",
            "    accuracy                           0.41       200\n",
            "   macro avg       0.50      0.51      0.31       200\n",
            "weighted avg       0.95      0.41      0.56       200\n",
            "\n"
          ],
          "name": "stdout"
        }
      ]
    },
    {
      "cell_type": "code",
      "metadata": {
        "id": "swJW2Icjr2wm"
      },
      "source": [
        "from keras.layers import LSTM, Activation, Dense, Dropout, Input, Embedding\r\n",
        "from keras.optimizers import RMSprop\r\n",
        "from keras.preprocessing.text import Tokenizer\r\n",
        "from keras.preprocessing import sequence\r\n",
        "from keras.utils import to_categorical\r\n",
        "from keras.callbacks import EarlyStopping\r\n",
        "from keras.models import Model\r\n",
        "# %matplotlib inline"
      ],
      "execution_count": 48,
      "outputs": []
    },
    {
      "cell_type": "code",
      "metadata": {
        "id": "LJZ85fRXrlzf"
      },
      "source": [
        "def RNN():\r\n",
        "    inputs = Input(name='inputs',shape=(1,768))\r\n",
        "    layer = LSTM(64)(inputs)\r\n",
        "    layer = Dense(256,name='FC1')(layer)\r\n",
        "    layer = Activation('relu')(layer)\r\n",
        "    layer = Dropout(0.5)(layer)\r\n",
        "    layer = Dense(1,name='out_layer')(layer)\r\n",
        "    layer = Activation('sigmoid')(layer)\r\n",
        "    model = Model(inputs=inputs,outputs=layer)\r\n",
        "    return model"
      ],
      "execution_count": 49,
      "outputs": []
    },
    {
      "cell_type": "code",
      "metadata": {
        "id": "OHhQ2X1Drl4J",
        "colab": {
          "base_uri": "https://localhost:8080/"
        },
        "outputId": "709cc622-2be0-464a-c3d2-4853553939ec"
      },
      "source": [
        "\r\n",
        "model = RNN()\r\n",
        "model.summary()\r\n",
        "model.compile(loss='binary_crossentropy',optimizer=RMSprop(),metrics=['accuracy'])"
      ],
      "execution_count": 50,
      "outputs": [
        {
          "output_type": "stream",
          "text": [
            "Model: \"model_1\"\n",
            "_________________________________________________________________\n",
            "Layer (type)                 Output Shape              Param #   \n",
            "=================================================================\n",
            "inputs (InputLayer)          [(None, 1, 768)]          0         \n",
            "_________________________________________________________________\n",
            "lstm (LSTM)                  (None, 64)                213248    \n",
            "_________________________________________________________________\n",
            "FC1 (Dense)                  (None, 256)               16640     \n",
            "_________________________________________________________________\n",
            "activation (Activation)      (None, 256)               0         \n",
            "_________________________________________________________________\n",
            "dropout (Dropout)            (None, 256)               0         \n",
            "_________________________________________________________________\n",
            "out_layer (Dense)            (None, 1)                 257       \n",
            "_________________________________________________________________\n",
            "activation_1 (Activation)    (None, 1)                 0         \n",
            "=================================================================\n",
            "Total params: 230,145\n",
            "Trainable params: 230,145\n",
            "Non-trainable params: 0\n",
            "_________________________________________________________________\n"
          ],
          "name": "stdout"
        }
      ]
    },
    {
      "cell_type": "code",
      "metadata": {
        "colab": {
          "base_uri": "https://localhost:8080/"
        },
        "id": "fcefvMF4Mhq5",
        "outputId": "aed7bc50-2379-45c9-9b14-8f5d6f2e4265"
      },
      "source": [
        "model.fit(x_train,y_train,batch_size=8,epochs=10,validation_data = (x_test,y_test),callbacks=[EarlyStopping(monitor='val_loss',min_delta=0.000001)])"
      ],
      "execution_count": 51,
      "outputs": [
        {
          "output_type": "stream",
          "text": [
            "Epoch 1/10\n",
            "100/100 [==============================] - 4s 18ms/step - loss: 0.4087 - accuracy: 0.8943 - val_loss: 1.1283 - val_accuracy: 0.5900\n",
            "Epoch 2/10\n",
            "100/100 [==============================] - 1s 6ms/step - loss: 0.2796 - accuracy: 0.9225 - val_loss: 1.1749 - val_accuracy: 0.5900\n"
          ],
          "name": "stdout"
        },
        {
          "output_type": "execute_result",
          "data": {
            "text/plain": [
              "<tensorflow.python.keras.callbacks.History at 0x7fa7e9d467b8>"
            ]
          },
          "metadata": {
            "tags": []
          },
          "execution_count": 51
        }
      ]
    },
    {
      "cell_type": "code",
      "metadata": {
        "colab": {
          "base_uri": "https://localhost:8080/"
        },
        "id": "hzyT1OeTNTn-",
        "outputId": "727821cb-2b07-4930-ae04-f0be3fd7feb2"
      },
      "source": [
        "accr = model.evaluate(x_test,y_test)\r\n",
        "print(accr)"
      ],
      "execution_count": 52,
      "outputs": [
        {
          "output_type": "stream",
          "text": [
            "7/7 [==============================] - 0s 4ms/step - loss: 1.1749 - accuracy: 0.5900\n",
            "[1.1748751401901245, 0.5899999737739563]\n"
          ],
          "name": "stdout"
        }
      ]
    },
    {
      "cell_type": "code",
      "metadata": {
        "id": "-pn6dYTFPE9r"
      },
      "source": [
        "y_preds = model.predict(x_test)"
      ],
      "execution_count": 53,
      "outputs": []
    },
    {
      "cell_type": "code",
      "metadata": {
        "colab": {
          "base_uri": "https://localhost:8080/"
        },
        "id": "l0LklS7DPIFN",
        "outputId": "8977e270-51be-4409-b211-82c37752b970"
      },
      "source": [
        "y_preds[:2]"
      ],
      "execution_count": 54,
      "outputs": [
        {
          "output_type": "execute_result",
          "data": {
            "text/plain": [
              "array([[0.9377342 ],\n",
              "       [0.93757915]], dtype=float32)"
            ]
          },
          "metadata": {
            "tags": []
          },
          "execution_count": 54
        }
      ]
    },
    {
      "cell_type": "code",
      "metadata": {
        "id": "XvI2njElPIJi"
      },
      "source": [
        "y_pred = y_preds > 0.5\r\n"
      ],
      "execution_count": 55,
      "outputs": []
    },
    {
      "cell_type": "code",
      "metadata": {
        "colab": {
          "base_uri": "https://localhost:8080/"
        },
        "id": "FnWsE_9NPNoo",
        "outputId": "c9e36b67-cc57-4af4-eeff-74f8089e5e29"
      },
      "source": [
        "pred = np.array([1 if i== True else 0 for i in y_pred])\r\n",
        "pred[:2]"
      ],
      "execution_count": 56,
      "outputs": [
        {
          "output_type": "execute_result",
          "data": {
            "text/plain": [
              "array([1, 1])"
            ]
          },
          "metadata": {
            "tags": []
          },
          "execution_count": 56
        }
      ]
    },
    {
      "cell_type": "code",
      "metadata": {
        "colab": {
          "base_uri": "https://localhost:8080/"
        },
        "id": "Jkq65sU7PwUx",
        "outputId": "ec48483e-a28c-4765-9d2d-9e5aef9c36c5"
      },
      "source": [
        "pred[:1000]"
      ],
      "execution_count": 57,
      "outputs": [
        {
          "output_type": "execute_result",
          "data": {
            "text/plain": [
              "array([1, 1, 1, 1, 1, 1, 1, 1, 1, 1, 1, 1, 1, 1, 1, 1, 1, 1, 1, 1, 1, 1,\n",
              "       1, 1, 1, 1, 1, 1, 1, 1, 1, 1, 1, 1, 1, 1, 1, 1, 1, 1, 1, 1, 1, 1,\n",
              "       1, 1, 1, 1, 1, 1, 1, 1, 1, 1, 1, 1, 1, 1, 1, 1, 1, 1, 1, 1, 1, 1,\n",
              "       1, 1, 1, 1, 1, 1, 1, 1, 1, 1, 1, 1, 1, 1, 1, 1, 1, 1, 1, 1, 1, 1,\n",
              "       1, 1, 1, 1, 1, 1, 1, 1, 1, 1, 1, 1, 1, 1, 1, 1, 1, 1, 1, 1, 1, 1,\n",
              "       1, 1, 1, 1, 1, 1, 1, 1, 1, 1, 1, 1, 1, 1, 1, 1, 1, 1, 1, 1, 1, 1,\n",
              "       1, 1, 1, 1, 1, 1, 1, 1, 1, 1, 1, 1, 1, 1, 1, 1, 1, 1, 1, 1, 1, 1,\n",
              "       1, 1, 1, 1, 1, 1, 1, 1, 1, 1, 1, 1, 1, 1, 1, 1, 1, 1, 1, 1, 1, 1,\n",
              "       1, 1, 1, 1, 1, 1, 1, 1, 1, 1, 1, 1, 1, 1, 1, 1, 1, 1, 1, 1, 1, 1,\n",
              "       1, 1])"
            ]
          },
          "metadata": {
            "tags": []
          },
          "execution_count": 57
        }
      ]
    },
    {
      "cell_type": "code",
      "metadata": {
        "colab": {
          "base_uri": "https://localhost:8080/"
        },
        "id": "fHZ25SZrNHY7",
        "outputId": "5304ffe9-b108-4b1d-8628-cac1dcd36bc4"
      },
      "source": [
        "from sklearn.metrics import classification_report,confusion_matrix\r\n",
        "\r\n",
        "print(confusion_matrix(pred,y_test))\r\n",
        "print(classification_report(pred,y_test))"
      ],
      "execution_count": 58,
      "outputs": [
        {
          "output_type": "stream",
          "text": [
            "[[  0   0]\n",
            " [ 82 118]]\n",
            "              precision    recall  f1-score   support\n",
            "\n",
            "           0       0.00      0.00      0.00         0\n",
            "           1       1.00      0.59      0.74       200\n",
            "\n",
            "    accuracy                           0.59       200\n",
            "   macro avg       0.50      0.29      0.37       200\n",
            "weighted avg       1.00      0.59      0.74       200\n",
            "\n"
          ],
          "name": "stdout"
        },
        {
          "output_type": "stream",
          "text": [
            "/usr/local/lib/python3.6/dist-packages/sklearn/metrics/_classification.py:1272: UndefinedMetricWarning: Recall and F-score are ill-defined and being set to 0.0 in labels with no true samples. Use `zero_division` parameter to control this behavior.\n",
            "  _warn_prf(average, modifier, msg_start, len(result))\n"
          ],
          "name": "stderr"
        }
      ]
    },
    {
      "cell_type": "code",
      "metadata": {
        "id": "AIBACh1VYXJz"
      },
      "source": [
        "import pandas as pd\r\n",
        "train_df = pd.read_csv('train.csv')"
      ],
      "execution_count": 59,
      "outputs": []
    },
    {
      "cell_type": "code",
      "metadata": {
        "colab": {
          "base_uri": "https://localhost:8080/",
          "height": 204
        },
        "id": "ypdU3V0Jmp4c",
        "outputId": "5f78ee72-6b07-4d85-ba88-3f2eb465bfa2"
      },
      "source": [
        "train_df.head(5)"
      ],
      "execution_count": 60,
      "outputs": [
        {
          "output_type": "execute_result",
          "data": {
            "text/html": [
              "<div>\n",
              "<style scoped>\n",
              "    .dataframe tbody tr th:only-of-type {\n",
              "        vertical-align: middle;\n",
              "    }\n",
              "\n",
              "    .dataframe tbody tr th {\n",
              "        vertical-align: top;\n",
              "    }\n",
              "\n",
              "    .dataframe thead th {\n",
              "        text-align: right;\n",
              "    }\n",
              "</style>\n",
              "<table border=\"1\" class=\"dataframe\">\n",
              "  <thead>\n",
              "    <tr style=\"text-align: right;\">\n",
              "      <th></th>\n",
              "      <th>text</th>\n",
              "      <th>experience</th>\n",
              "    </tr>\n",
              "  </thead>\n",
              "  <tbody>\n",
              "    <tr>\n",
              "      <th>0</th>\n",
              "      <td>चंद्रमोहन शर्मा को-प्रड्यूसर और लीड ऐक्टर अक्ष...</td>\n",
              "      <td>2</td>\n",
              "    </tr>\n",
              "    <tr>\n",
              "      <th>1</th>\n",
              "      <td>अगर आप इस फिल्म को देखने जा रहे हैं तो सबसे पह...</td>\n",
              "      <td>0</td>\n",
              "    </tr>\n",
              "    <tr>\n",
              "      <th>2</th>\n",
              "      <td>बॉलीवुड वाले चोरी-छिपे हॉलीवुड फिल्मों से कहान...</td>\n",
              "      <td>2</td>\n",
              "    </tr>\n",
              "    <tr>\n",
              "      <th>3</th>\n",
              "      <td>बैनर :\\nसंजय दत्त प्रोडक्शन्स प्रा.लि., रुपाली...</td>\n",
              "      <td>0</td>\n",
              "    </tr>\n",
              "    <tr>\n",
              "      <th>4</th>\n",
              "      <td>1959 में घटित चर्चित नानावटी कांड में एक क्राइ...</td>\n",
              "      <td>1</td>\n",
              "    </tr>\n",
              "  </tbody>\n",
              "</table>\n",
              "</div>"
            ],
            "text/plain": [
              "                                                text  experience\n",
              "0  चंद्रमोहन शर्मा को-प्रड्यूसर और लीड ऐक्टर अक्ष...           2\n",
              "1  अगर आप इस फिल्म को देखने जा रहे हैं तो सबसे पह...           0\n",
              "2  बॉलीवुड वाले चोरी-छिपे हॉलीवुड फिल्मों से कहान...           2\n",
              "3  बैनर :\\nसंजय दत्त प्रोडक्शन्स प्रा.लि., रुपाली...           0\n",
              "4  1959 में घटित चर्चित नानावटी कांड में एक क्राइ...           1"
            ]
          },
          "metadata": {
            "tags": []
          },
          "execution_count": 60
        }
      ]
    },
    {
      "cell_type": "markdown",
      "metadata": {
        "id": "IRQCtoHYqX1e"
      },
      "source": [
        "#GLHF"
      ]
    },
    {
      "cell_type": "code",
      "metadata": {
        "id": "0wZbFPqAmvx9"
      },
      "source": [
        "neutral_index = train_df[train_df['experience'] == 1].index"
      ],
      "execution_count": 61,
      "outputs": []
    },
    {
      "cell_type": "code",
      "metadata": {
        "id": "-ZzRoNmErT7o"
      },
      "source": [
        "train_df.drop(neutral_index, inplace = True) "
      ],
      "execution_count": 62,
      "outputs": []
    },
    {
      "cell_type": "code",
      "metadata": {
        "colab": {
          "base_uri": "https://localhost:8080/",
          "height": 279
        },
        "id": "qtNDHgOtrZXB",
        "outputId": "7d0cf61b-0547-43d7-ab6a-4b492728f718"
      },
      "source": [
        "train_df['experience'].value_counts().plot(kind = 'bar')"
      ],
      "execution_count": 63,
      "outputs": [
        {
          "output_type": "execute_result",
          "data": {
            "text/plain": [
              "<matplotlib.axes._subplots.AxesSubplot at 0x7fa7e5d9d9b0>"
            ]
          },
          "metadata": {
            "tags": []
          },
          "execution_count": 63
        },
        {
          "output_type": "display_data",
          "data": {
            "image/png": "[encoded data removed]",
            "text/plain": [
              "<Figure size 432x288 with 1 Axes>"
            ]
          },
          "metadata": {
            "tags": [],
            "needs_background": "light"
          }
        }
      ]
    },
    {
      "cell_type": "code",
      "metadata": {
        "id": "JMH3gqTvr467"
      },
      "source": [
        "X = train_df['text'].values\r\n",
        "y = train_df['experience'].values"
      ],
      "execution_count": 64,
      "outputs": []
    },
    {
      "cell_type": "code",
      "metadata": {
        "id": "ZVcfNVPTvGFq"
      },
      "source": [
        "pos_doc = train_df[train_df['experience']==2].text.values\r\n",
        "neg_doc = train_df[train_df['experience']==0].text.values"
      ],
      "execution_count": 67,
      "outputs": []
    },
    {
      "cell_type": "code",
      "metadata": {
        "id": "FK6-PosRr_-S",
        "colab": {
          "base_uri": "https://localhost:8080/"
        },
        "outputId": "fe46f08b-f7c9-4f0b-a2d8-51638d478d3e"
      },
      "source": [
        "positive_feature_set = encode(pos_doc)"
      ],
      "execution_count": 68,
      "outputs": [
        {
          "output_type": "stream",
          "text": [
            "WARNING:tensorflow:5 out of the last 7 calls to <function recreate_function.<locals>.restored_function_body at 0x7fa805559510> triggered tf.function retracing. Tracing is expensive and the excessive number of tracings could be due to (1) creating @tf.function repeatedly in a loop, (2) passing tensors with different shapes, (3) passing Python objects instead of tensors. For (1), please define your @tf.function outside of the loop. For (2), @tf.function has experimental_relax_shapes=True option that relaxes argument shapes that can avoid unnecessary retracing. For (3), please refer to https://www.tensorflow.org/guide/function#controlling_retracing and https://www.tensorflow.org/api_docs/python/tf/function for  more details.\n"
          ],
          "name": "stdout"
        }
      ]
    },
    {
      "cell_type": "code",
      "metadata": {
        "id": "1p6rXYgSsDzG",
        "colab": {
          "base_uri": "https://localhost:8080/"
        },
        "outputId": "4b308339-d9c5-4855-cdd8-2bc5af52e459"
      },
      "source": [
        "negative_set = encode(neg_doc)"
      ],
      "execution_count": 69,
      "outputs": [
        {
          "output_type": "stream",
          "text": [
            "WARNING:tensorflow:6 out of the last 8 calls to <function recreate_function.<locals>.restored_function_body at 0x7fa805559510> triggered tf.function retracing. Tracing is expensive and the excessive number of tracings could be due to (1) creating @tf.function repeatedly in a loop, (2) passing tensors with different shapes, (3) passing Python objects instead of tensors. For (1), please define your @tf.function outside of the loop. For (2), @tf.function has experimental_relax_shapes=True option that relaxes argument shapes that can avoid unnecessary retracing. For (3), please refer to https://www.tensorflow.org/guide/function#controlling_retracing and https://www.tensorflow.org/api_docs/python/tf/function for  more details.\n"
          ],
          "name": "stdout"
        }
      ]
    },
    {
      "cell_type": "code",
      "metadata": {
        "colab": {
          "base_uri": "https://localhost:8080/"
        },
        "id": "QEgzlsfusOkq",
        "outputId": "2e87180d-bee6-4970-edef-512cb6c72092"
      },
      "source": [
        "finalset = []\r\n",
        "for i in positive_feature_set:\r\n",
        "    finalset.append([np.array(i).reshape((1,768)).tolist(), 1])\r\n",
        "for i in negative_set:\r\n",
        "    finalset.append([np.array(i).reshape((1,768)).tolist(), 0])\r\n",
        "\r\n",
        "finalset = np.array(finalset)\r\n",
        "random.shuffle(finalset)\r\n",
        "test_size = 0.2\r\n",
        "testing_size = int((1 - test_size) * len(finalset))\r\n",
        "x_train = np.array(finalset[:, 0][:testing_size]).tolist()  # taking features array upto testing_size\r\n",
        "y_train = np.array(finalset[:, 1][:testing_size]).tolist()\r\n",
        "x_test = np.array(finalset[:, 0][testing_size:]).tolist()\r\n",
        "y_test = np.array(finalset[:, 1][testing_size:]).tolist()"
      ],
      "execution_count": 70,
      "outputs": [
        {
          "output_type": "stream",
          "text": [
            "/usr/local/lib/python3.6/dist-packages/ipykernel_launcher.py:7: VisibleDeprecationWarning: Creating an ndarray from ragged nested sequences (which is a list-or-tuple of lists-or-tuples-or ndarrays with different lengths or shapes) is deprecated. If you meant to do this, you must specify 'dtype=object' when creating the ndarray\n",
            "  import sys\n"
          ],
          "name": "stderr"
        }
      ]
    },
    {
      "cell_type": "code",
      "metadata": {
        "id": "R__zblEysP5n"
      },
      "source": [
        ""
      ],
      "execution_count": 70,
      "outputs": []
    },
    {
      "cell_type": "code",
      "metadata": {
        "colab": {
          "base_uri": "https://localhost:8080/"
        },
        "id": "sFS7eeVusRV9",
        "outputId": "282dd618-96dd-4718-855c-0d4b56a5a3dc"
      },
      "source": [
        "# Define the model(Sequential)\r\n",
        "model = tf.keras.models.Sequential()\r\n",
        "model.add(tf.keras.layers.Dense(128, input_shape =  (1,768)))\r\n",
        "model.add(tf.keras.layers.Dense(128, activation=tf.nn.relu))\r\n",
        "model.add(tf.keras.layers.Dense(2,activation=tf.nn.softmax))\r\n",
        "#chudu idi last layer softmax kada 0 or 1 vastadi kada?\r\n",
        "model.summary()"
      ],
      "execution_count": 71,
      "outputs": [
        {
          "output_type": "stream",
          "text": [
            "Model: \"sequential_1\"\n",
            "_________________________________________________________________\n",
            "Layer (type)                 Output Shape              Param #   \n",
            "=================================================================\n",
            "dense_3 (Dense)              (None, 1, 128)            98432     \n",
            "_________________________________________________________________\n",
            "dense_4 (Dense)              (None, 1, 128)            16512     \n",
            "_________________________________________________________________\n",
            "dense_5 (Dense)              (None, 1, 2)              258       \n",
            "=================================================================\n",
            "Total params: 115,202\n",
            "Trainable params: 115,202\n",
            "Non-trainable params: 0\n",
            "_________________________________________________________________\n"
          ],
          "name": "stdout"
        }
      ]
    },
    {
      "cell_type": "code",
      "metadata": {
        "id": "dVMI-vaIseiF"
      },
      "source": [
        "model.compile(\r\n",
        "    loss=tf.keras.losses.binary_crossentropy,\r\n",
        "    optimizer='adam',\r\n",
        "    metrics=['accuracy'])\r\n"
      ],
      "execution_count": 72,
      "outputs": []
    },
    {
      "cell_type": "code",
      "metadata": {
        "colab": {
          "base_uri": "https://localhost:8080/"
        },
        "id": "RrXPqoDyshml",
        "outputId": "7cbb9439-d81f-4a41-b409-5adadc4d3b66"
      },
      "source": [
        "#ready for erro\r\n",
        "model.fit(x_train, y_train,\r\n",
        "          batch_size=32,\r\n",
        "          epochs=100\r\n",
        "          )"
      ],
      "execution_count": 73,
      "outputs": [
        {
          "output_type": "stream",
          "text": [
            "Epoch 1/100\n",
            "13/13 [==============================] - 1s 6ms/step - loss: 0.6932 - accuracy: 0.4037\n",
            "Epoch 2/100\n",
            "13/13 [==============================] - 0s 4ms/step - loss: 0.6932 - accuracy: 0.5135\n",
            "Epoch 3/100\n",
            "13/13 [==============================] - 0s 5ms/step - loss: 0.6931 - accuracy: 0.4889\n",
            "Epoch 4/100\n",
            "13/13 [==============================] - 0s 4ms/step - loss: 0.6931 - accuracy: 0.4445\n",
            "Epoch 5/100\n",
            "13/13 [==============================] - 0s 4ms/step - loss: 0.6931 - accuracy: 0.4548\n",
            "Epoch 6/100\n",
            "13/13 [==============================] - 0s 5ms/step - loss: 0.6931 - accuracy: 0.6143\n",
            "Epoch 7/100\n",
            "13/13 [==============================] - 0s 5ms/step - loss: 0.6931 - accuracy: 0.4938\n",
            "Epoch 8/100\n",
            "13/13 [==============================] - 0s 5ms/step - loss: 0.6931 - accuracy: 0.5293\n",
            "Epoch 9/100\n",
            "13/13 [==============================] - 0s 5ms/step - loss: 0.6931 - accuracy: 0.4882\n",
            "Epoch 10/100\n",
            "13/13 [==============================] - 0s 4ms/step - loss: 0.6931 - accuracy: 0.4912\n",
            "Epoch 11/100\n",
            "13/13 [==============================] - 0s 4ms/step - loss: 0.6931 - accuracy: 0.4838\n",
            "Epoch 12/100\n",
            "13/13 [==============================] - 0s 5ms/step - loss: 0.6931 - accuracy: 0.4031\n",
            "Epoch 13/100\n",
            "13/13 [==============================] - 0s 6ms/step - loss: 0.6931 - accuracy: 0.4263\n",
            "Epoch 14/100\n",
            "13/13 [==============================] - 0s 4ms/step - loss: 0.6931 - accuracy: 0.6081\n",
            "Epoch 15/100\n",
            "13/13 [==============================] - 0s 5ms/step - loss: 0.6931 - accuracy: 0.4694\n",
            "Epoch 16/100\n",
            "13/13 [==============================] - 0s 5ms/step - loss: 0.6931 - accuracy: 0.5137\n",
            "Epoch 17/100\n",
            "13/13 [==============================] - 0s 5ms/step - loss: 0.6931 - accuracy: 0.5560\n",
            "Epoch 18/100\n",
            "13/13 [==============================] - 0s 4ms/step - loss: 0.6931 - accuracy: 0.5038\n",
            "Epoch 19/100\n",
            "13/13 [==============================] - 0s 4ms/step - loss: 0.6931 - accuracy: 0.5703\n",
            "Epoch 20/100\n",
            "13/13 [==============================] - 0s 5ms/step - loss: 0.6931 - accuracy: 0.4095\n",
            "Epoch 21/100\n",
            "13/13 [==============================] - 0s 6ms/step - loss: 0.6931 - accuracy: 0.5306\n",
            "Epoch 22/100\n",
            "13/13 [==============================] - 0s 5ms/step - loss: 0.6931 - accuracy: 0.5529\n",
            "Epoch 23/100\n",
            "13/13 [==============================] - 0s 5ms/step - loss: 0.6931 - accuracy: 0.4970\n",
            "Epoch 24/100\n",
            "13/13 [==============================] - 0s 5ms/step - loss: 0.6931 - accuracy: 0.4958\n",
            "Epoch 25/100\n",
            "13/13 [==============================] - 0s 6ms/step - loss: 0.6931 - accuracy: 0.4867\n",
            "Epoch 26/100\n",
            "13/13 [==============================] - 0s 5ms/step - loss: 0.6931 - accuracy: 0.5491\n",
            "Epoch 27/100\n",
            "13/13 [==============================] - 0s 5ms/step - loss: 0.6931 - accuracy: 0.6448\n",
            "Epoch 28/100\n",
            "13/13 [==============================] - 0s 4ms/step - loss: 0.6931 - accuracy: 0.5467\n",
            "Epoch 29/100\n",
            "13/13 [==============================] - 0s 5ms/step - loss: 0.6931 - accuracy: 0.5007\n",
            "Epoch 30/100\n",
            "13/13 [==============================] - 0s 5ms/step - loss: 0.6931 - accuracy: 0.4281\n",
            "Epoch 31/100\n",
            "13/13 [==============================] - 0s 6ms/step - loss: 0.6931 - accuracy: 0.4960\n",
            "Epoch 32/100\n",
            "13/13 [==============================] - 0s 7ms/step - loss: 0.6931 - accuracy: 0.5960\n",
            "Epoch 33/100\n",
            "13/13 [==============================] - 0s 5ms/step - loss: 0.6931 - accuracy: 0.5424\n",
            "Epoch 34/100\n",
            "13/13 [==============================] - 0s 5ms/step - loss: 0.6931 - accuracy: 0.5033\n",
            "Epoch 35/100\n",
            "13/13 [==============================] - 0s 4ms/step - loss: 0.6931 - accuracy: 0.5897\n",
            "Epoch 36/100\n",
            "13/13 [==============================] - 0s 6ms/step - loss: 0.6931 - accuracy: 0.5937\n",
            "Epoch 37/100\n",
            "13/13 [==============================] - 0s 6ms/step - loss: 0.6931 - accuracy: 0.5339\n",
            "Epoch 38/100\n",
            "13/13 [==============================] - 0s 4ms/step - loss: 0.6931 - accuracy: 0.5440\n",
            "Epoch 39/100\n",
            "13/13 [==============================] - 0s 5ms/step - loss: 0.6931 - accuracy: 0.4671\n",
            "Epoch 40/100\n",
            "13/13 [==============================] - 0s 5ms/step - loss: 0.6931 - accuracy: 0.4605\n",
            "Epoch 41/100\n",
            "13/13 [==============================] - 0s 5ms/step - loss: 0.6931 - accuracy: 0.5061\n",
            "Epoch 42/100\n",
            "13/13 [==============================] - 0s 4ms/step - loss: 0.6931 - accuracy: 0.5720\n",
            "Epoch 43/100\n",
            "13/13 [==============================] - 0s 5ms/step - loss: 0.6931 - accuracy: 0.6307\n",
            "Epoch 44/100\n",
            "13/13 [==============================] - 0s 5ms/step - loss: 0.6931 - accuracy: 0.5566\n",
            "Epoch 45/100\n",
            "13/13 [==============================] - 0s 5ms/step - loss: 0.6931 - accuracy: 0.4475\n",
            "Epoch 46/100\n",
            "13/13 [==============================] - 0s 5ms/step - loss: 0.6931 - accuracy: 0.4650\n",
            "Epoch 47/100\n",
            "13/13 [==============================] - 0s 5ms/step - loss: 0.6931 - accuracy: 0.5099\n",
            "Epoch 48/100\n",
            "13/13 [==============================] - 0s 5ms/step - loss: 0.6931 - accuracy: 0.4125\n",
            "Epoch 49/100\n",
            "13/13 [==============================] - 0s 5ms/step - loss: 0.6931 - accuracy: 0.4736\n",
            "Epoch 50/100\n",
            "13/13 [==============================] - 0s 5ms/step - loss: 0.6931 - accuracy: 0.4245\n",
            "Epoch 51/100\n",
            "13/13 [==============================] - 0s 5ms/step - loss: 0.6931 - accuracy: 0.4678\n",
            "Epoch 52/100\n",
            "13/13 [==============================] - 0s 4ms/step - loss: 0.6931 - accuracy: 0.5758\n",
            "Epoch 53/100\n",
            "13/13 [==============================] - 0s 5ms/step - loss: 0.6931 - accuracy: 0.5455\n",
            "Epoch 54/100\n",
            "13/13 [==============================] - 0s 6ms/step - loss: 0.6931 - accuracy: 0.4525\n",
            "Epoch 55/100\n",
            "13/13 [==============================] - 0s 5ms/step - loss: 0.6931 - accuracy: 0.5349\n",
            "Epoch 56/100\n",
            "13/13 [==============================] - 0s 5ms/step - loss: 0.6931 - accuracy: 0.5827\n",
            "Epoch 57/100\n",
            "13/13 [==============================] - 0s 5ms/step - loss: 0.6931 - accuracy: 0.4899\n",
            "Epoch 58/100\n",
            "13/13 [==============================] - 0s 5ms/step - loss: 0.6931 - accuracy: 0.4186\n",
            "Epoch 59/100\n",
            "13/13 [==============================] - 0s 5ms/step - loss: 0.6931 - accuracy: 0.5397\n",
            "Epoch 60/100\n",
            "13/13 [==============================] - 0s 6ms/step - loss: 0.6931 - accuracy: 0.5520\n",
            "Epoch 61/100\n",
            "13/13 [==============================] - 0s 5ms/step - loss: 0.6931 - accuracy: 0.4410\n",
            "Epoch 62/100\n",
            "13/13 [==============================] - 0s 5ms/step - loss: 0.6931 - accuracy: 0.4573\n",
            "Epoch 63/100\n",
            "13/13 [==============================] - 0s 5ms/step - loss: 0.6931 - accuracy: 0.5289\n",
            "Epoch 64/100\n",
            "13/13 [==============================] - 0s 5ms/step - loss: 0.6931 - accuracy: 0.5098\n",
            "Epoch 65/100\n",
            "13/13 [==============================] - 0s 5ms/step - loss: 0.6931 - accuracy: 0.5147\n",
            "Epoch 66/100\n",
            "13/13 [==============================] - 0s 5ms/step - loss: 0.6931 - accuracy: 0.4572\n",
            "Epoch 67/100\n",
            "13/13 [==============================] - 0s 5ms/step - loss: 0.6931 - accuracy: 0.5361\n",
            "Epoch 68/100\n",
            "13/13 [==============================] - 0s 5ms/step - loss: 0.6931 - accuracy: 0.5469\n",
            "Epoch 69/100\n",
            "13/13 [==============================] - 0s 5ms/step - loss: 0.6931 - accuracy: 0.5337\n",
            "Epoch 70/100\n",
            "13/13 [==============================] - 0s 5ms/step - loss: 0.6931 - accuracy: 0.4845\n",
            "Epoch 71/100\n",
            "13/13 [==============================] - 0s 5ms/step - loss: 0.6931 - accuracy: 0.5433\n",
            "Epoch 72/100\n",
            "13/13 [==============================] - 0s 5ms/step - loss: 0.6931 - accuracy: 0.5574\n",
            "Epoch 73/100\n",
            "13/13 [==============================] - 0s 5ms/step - loss: 0.6931 - accuracy: 0.4287\n",
            "Epoch 74/100\n",
            "13/13 [==============================] - 0s 5ms/step - loss: 0.6931 - accuracy: 0.5441\n",
            "Epoch 75/100\n",
            "13/13 [==============================] - 0s 5ms/step - loss: 0.6931 - accuracy: 0.4353\n",
            "Epoch 76/100\n",
            "13/13 [==============================] - 0s 5ms/step - loss: 0.6931 - accuracy: 0.5957\n",
            "Epoch 77/100\n",
            "13/13 [==============================] - 0s 5ms/step - loss: 0.6931 - accuracy: 0.5770\n",
            "Epoch 78/100\n",
            "13/13 [==============================] - 0s 5ms/step - loss: 0.6931 - accuracy: 0.3844\n",
            "Epoch 79/100\n",
            "13/13 [==============================] - 0s 5ms/step - loss: 0.6931 - accuracy: 0.5935\n",
            "Epoch 80/100\n",
            "13/13 [==============================] - 0s 5ms/step - loss: 0.6931 - accuracy: 0.4762\n",
            "Epoch 81/100\n",
            "13/13 [==============================] - 0s 4ms/step - loss: 0.6931 - accuracy: 0.5658\n",
            "Epoch 82/100\n",
            "13/13 [==============================] - 0s 6ms/step - loss: 0.6931 - accuracy: 0.4900\n",
            "Epoch 83/100\n",
            "13/13 [==============================] - 0s 6ms/step - loss: 0.6931 - accuracy: 0.5742\n",
            "Epoch 84/100\n",
            "13/13 [==============================] - 0s 5ms/step - loss: 0.6931 - accuracy: 0.4411\n",
            "Epoch 85/100\n",
            "13/13 [==============================] - 0s 5ms/step - loss: 0.6931 - accuracy: 0.5285\n",
            "Epoch 86/100\n",
            "13/13 [==============================] - 0s 6ms/step - loss: 0.6931 - accuracy: 0.5579\n",
            "Epoch 87/100\n",
            "13/13 [==============================] - 0s 6ms/step - loss: 0.6931 - accuracy: 0.4795\n",
            "Epoch 88/100\n",
            "13/13 [==============================] - 0s 5ms/step - loss: 0.6931 - accuracy: 0.4826\n",
            "Epoch 89/100\n",
            "13/13 [==============================] - 0s 5ms/step - loss: 0.6931 - accuracy: 0.4956\n",
            "Epoch 90/100\n",
            "13/13 [==============================] - 0s 5ms/step - loss: 0.6931 - accuracy: 0.5459\n",
            "Epoch 91/100\n",
            "13/13 [==============================] - 0s 4ms/step - loss: 0.6931 - accuracy: 0.4625\n",
            "Epoch 92/100\n",
            "13/13 [==============================] - 0s 5ms/step - loss: 0.6931 - accuracy: 0.5175\n",
            "Epoch 93/100\n",
            "13/13 [==============================] - 0s 5ms/step - loss: 0.6931 - accuracy: 0.4609\n",
            "Epoch 94/100\n",
            "13/13 [==============================] - 0s 5ms/step - loss: 0.6931 - accuracy: 0.4030\n",
            "Epoch 95/100\n",
            "13/13 [==============================] - 0s 4ms/step - loss: 0.6931 - accuracy: 0.4974\n",
            "Epoch 96/100\n",
            "13/13 [==============================] - 0s 5ms/step - loss: 0.6931 - accuracy: 0.4184\n",
            "Epoch 97/100\n",
            "13/13 [==============================] - 0s 4ms/step - loss: 0.6931 - accuracy: 0.4677\n",
            "Epoch 98/100\n",
            "13/13 [==============================] - 0s 5ms/step - loss: 0.6931 - accuracy: 0.4701\n",
            "Epoch 99/100\n",
            "13/13 [==============================] - 0s 5ms/step - loss: 0.6931 - accuracy: 0.4717\n",
            "Epoch 100/100\n",
            "13/13 [==============================] - 0s 5ms/step - loss: 0.6931 - accuracy: 0.4198\n"
          ],
          "name": "stdout"
        },
        {
          "output_type": "execute_result",
          "data": {
            "text/plain": [
              "<tensorflow.python.keras.callbacks.History at 0x7fa7e5802550>"
            ]
          },
          "metadata": {
            "tags": []
          },
          "execution_count": 73
        }
      ]
    },
    {
      "cell_type": "code",
      "metadata": {
        "colab": {
          "base_uri": "https://localhost:8080/"
        },
        "id": "ap2Vnc1XslKg",
        "outputId": "6d628a6e-df7a-4e3f-f4cd-63bcff9f6e78"
      },
      "source": [
        "y_preds = model.predict_classes(x_test)"
      ],
      "execution_count": 74,
      "outputs": [
        {
          "output_type": "stream",
          "text": [
            "/usr/local/lib/python3.6/dist-packages/tensorflow/python/keras/engine/sequential.py:450: UserWarning: `model.predict_classes()` is deprecated and will be removed after 2021-01-01. Please use instead:* `np.argmax(model.predict(x), axis=-1)`,   if your model does multi-class classification   (e.g. if it uses a `softmax` last-layer activation).* `(model.predict(x) > 0.5).astype(\"int32\")`,   if your model does binary classification   (e.g. if it uses a `sigmoid` last-layer activation).\n",
            "  warnings.warn('`model.predict_classes()` is deprecated and '\n"
          ],
          "name": "stderr"
        }
      ]
    },
    {
      "cell_type": "code",
      "metadata": {
        "colab": {
          "base_uri": "https://localhost:8080/"
        },
        "id": "GpuAdoOSxHWk",
        "outputId": "fc50d050-fed8-48c5-c94e-14d8e7c06974"
      },
      "source": [
        "y_preds[:3]"
      ],
      "execution_count": 75,
      "outputs": [
        {
          "output_type": "execute_result",
          "data": {
            "text/plain": [
              "array([[1],\n",
              "       [1],\n",
              "       [1]])"
            ]
          },
          "metadata": {
            "tags": []
          },
          "execution_count": 75
        }
      ]
    },
    {
      "cell_type": "code",
      "metadata": {
        "id": "QJB_RK2DxK-t",
        "colab": {
          "base_uri": "https://localhost:8080/"
        },
        "outputId": "bb1f8876-0c9f-4033-84b5-14ec2ae71485"
      },
      "source": [
        "\r\n",
        "model1 = RNN()\r\n",
        "model1.summary()\r\n",
        "model1.compile(loss='binary_crossentropy',optimizer=RMSprop(),metrics=['accuracy'])"
      ],
      "execution_count": 76,
      "outputs": [
        {
          "output_type": "stream",
          "text": [
            "Model: \"model_2\"\n",
            "_________________________________________________________________\n",
            "Layer (type)                 Output Shape              Param #   \n",
            "=================================================================\n",
            "inputs (InputLayer)          [(None, 1, 768)]          0         \n",
            "_________________________________________________________________\n",
            "lstm_1 (LSTM)                (None, 64)                213248    \n",
            "_________________________________________________________________\n",
            "FC1 (Dense)                  (None, 256)               16640     \n",
            "_________________________________________________________________\n",
            "activation_2 (Activation)    (None, 256)               0         \n",
            "_________________________________________________________________\n",
            "dropout_1 (Dropout)          (None, 256)               0         \n",
            "_________________________________________________________________\n",
            "out_layer (Dense)            (None, 1)                 257       \n",
            "_________________________________________________________________\n",
            "activation_3 (Activation)    (None, 1)                 0         \n",
            "=================================================================\n",
            "Total params: 230,145\n",
            "Trainable params: 230,145\n",
            "Non-trainable params: 0\n",
            "_________________________________________________________________\n"
          ],
          "name": "stdout"
        }
      ]
    },
    {
      "cell_type": "code",
      "metadata": {
        "colab": {
          "base_uri": "https://localhost:8080/"
        },
        "id": "IoZHuinLTCLc",
        "outputId": "de70a232-2a47-4bb0-b4c8-be76e4e9c199"
      },
      "source": [
        "model1.fit(x_train,y_train,batch_size=16,epochs=10,validation_data = (x_test,y_test),callbacks=[EarlyStopping(monitor='val_loss',min_delta=0.000001)])"
      ],
      "execution_count": 77,
      "outputs": [
        {
          "output_type": "stream",
          "text": [
            "Epoch 1/10\n",
            "26/26 [==============================] - 3s 42ms/step - loss: 0.5306 - accuracy: 0.8412 - val_loss: 1.0803 - val_accuracy: 0.5243\n",
            "Epoch 2/10\n",
            "26/26 [==============================] - 0s 8ms/step - loss: 0.3009 - accuracy: 0.9130 - val_loss: 1.3775 - val_accuracy: 0.5243\n"
          ],
          "name": "stdout"
        },
        {
          "output_type": "execute_result",
          "data": {
            "text/plain": [
              "<tensorflow.python.keras.callbacks.History at 0x7fa7e9ee3550>"
            ]
          },
          "metadata": {
            "tags": []
          },
          "execution_count": 77
        }
      ]
    },
    {
      "cell_type": "code",
      "metadata": {
        "id": "A3rMf94_TGxW"
      },
      "source": [
        "y_preds = model1.predict(x_test)"
      ],
      "execution_count": 78,
      "outputs": []
    },
    {
      "cell_type": "code",
      "metadata": {
        "id": "XEkKwVeHUWhb"
      },
      "source": [
        "y_pred = y_preds > 0.5"
      ],
      "execution_count": 79,
      "outputs": []
    },
    {
      "cell_type": "code",
      "metadata": {
        "id": "tIintAinU4wj"
      },
      "source": [
        "pred = 1 * y_pred"
      ],
      "execution_count": 80,
      "outputs": []
    },
    {
      "cell_type": "code",
      "metadata": {
        "colab": {
          "base_uri": "https://localhost:8080/"
        },
        "id": "gQ4_ZpCzU56i",
        "outputId": "e7e2dfac-f663-4f45-8fbf-0455c922f870"
      },
      "source": [
        "from sklearn.metrics import classification_report,confusion_matrix\r\n",
        "\r\n",
        "print(confusion_matrix(pred,y_test))\r\n",
        "print(classification_report(pred,y_test))"
      ],
      "execution_count": 81,
      "outputs": [
        {
          "output_type": "stream",
          "text": [
            "[[ 0  0]\n",
            " [49 54]]\n",
            "              precision    recall  f1-score   support\n",
            "\n",
            "           0       0.00      0.00      0.00         0\n",
            "           1       1.00      0.52      0.69       103\n",
            "\n",
            "    accuracy                           0.52       103\n",
            "   macro avg       0.50      0.26      0.34       103\n",
            "weighted avg       1.00      0.52      0.69       103\n",
            "\n"
          ],
          "name": "stdout"
        },
        {
          "output_type": "stream",
          "text": [
            "/usr/local/lib/python3.6/dist-packages/sklearn/metrics/_classification.py:1272: UndefinedMetricWarning: Recall and F-score are ill-defined and being set to 0.0 in labels with no true samples. Use `zero_division` parameter to control this behavior.\n",
            "  _warn_prf(average, modifier, msg_start, len(result))\n"
          ],
          "name": "stderr"
        }
      ]
    },
    {
      "cell_type": "code",
      "metadata": {
        "colab": {
          "base_uri": "https://localhost:8080/"
        },
        "id": "B3uhTwMWX6KH",
        "outputId": "333c3d35-2ad2-42e7-a6c7-79924db33859"
      },
      "source": [
        "model1.save('simple_lstm')"
      ],
      "execution_count": 82,
      "outputs": [
        {
          "output_type": "stream",
          "text": [
            "WARNING:absl:Found untraced functions such as lstm_cell_1_layer_call_fn, lstm_cell_1_layer_call_and_return_conditional_losses, lstm_cell_1_layer_call_fn, lstm_cell_1_layer_call_and_return_conditional_losses, lstm_cell_1_layer_call_and_return_conditional_losses while saving (showing 5 of 5). These functions will not be directly callable after loading.\n",
            "WARNING:absl:Found untraced functions such as lstm_cell_1_layer_call_fn, lstm_cell_1_layer_call_and_return_conditional_losses, lstm_cell_1_layer_call_fn, lstm_cell_1_layer_call_and_return_conditional_losses, lstm_cell_1_layer_call_and_return_conditional_losses while saving (showing 5 of 5). These functions will not be directly callable after loading.\n"
          ],
          "name": "stderr"
        },
        {
          "output_type": "stream",
          "text": [
            "INFO:tensorflow:Assets written to: simple_lstm/assets\n"
          ],
          "name": "stdout"
        },
        {
          "output_type": "stream",
          "text": [
            "INFO:tensorflow:Assets written to: simple_lstm/assets\n"
          ],
          "name": "stderr"
        }
      ]
    },
    {
      "cell_type": "code",
      "metadata": {
        "colab": {
          "base_uri": "https://localhost:8080/"
        },
        "id": "0yGaVA70YNu3",
        "outputId": "e059b847-c8a8-47e0-eefd-a35f5eb82fd9"
      },
      "source": [
        "!zip -r simple_lstm.zip simple_lstm"
      ],
      "execution_count": 83,
      "outputs": [
        {
          "output_type": "stream",
          "text": [
            "  adding: simple_lstm/ (stored 0%)\n",
            "  adding: simple_lstm/variables/ (stored 0%)\n",
            "  adding: simple_lstm/variables/variables.data-00000-of-00001 (deflated 21%)\n",
            "  adding: simple_lstm/variables/variables.index (deflated 62%)\n",
            "  adding: simple_lstm/saved_model.pb (deflated 90%)\n",
            "  adding: simple_lstm/assets/ (stored 0%)\n"
          ],
          "name": "stdout"
        }
      ]
    },
    {
      "cell_type": "code",
      "metadata": {
        "id": "Ebybdel-YoUV"
      },
      "source": [
        "pickle_in = open(\"random_forest.pkl\",\"rb\")\r\n",
        "classifier=pickle.load(pickle_in)"
      ],
      "execution_count": 84,
      "outputs": []
    },
    {
      "cell_type": "code",
      "metadata": {
        "id": "vHc5K3pLcgwR"
      },
      "source": [
        "new_str = 'टिफिन खोलते और व्यंजनों की सूंघते-छूते समय इरफान के चेहरे पर संचरित भाव अंतस की खुशी जाहिर करता है'"
      ],
      "execution_count": 85,
      "outputs": []
    },
    {
      "cell_type": "code",
      "metadata": {
        "colab": {
          "base_uri": "https://localhost:8080/"
        },
        "id": "nX75xacecuoZ",
        "outputId": "ad7c22ee-0470-4614-e256-b53bf6a2c07c"
      },
      "source": [
        "encoded_str = encode([new_str])"
      ],
      "execution_count": 86,
      "outputs": [
        {
          "output_type": "stream",
          "text": [
            "WARNING:tensorflow:7 out of the last 9 calls to <function recreate_function.<locals>.restored_function_body at 0x7fa805559510> triggered tf.function retracing. Tracing is expensive and the excessive number of tracings could be due to (1) creating @tf.function repeatedly in a loop, (2) passing tensors with different shapes, (3) passing Python objects instead of tensors. For (1), please define your @tf.function outside of the loop. For (2), @tf.function has experimental_relax_shapes=True option that relaxes argument shapes that can avoid unnecessary retracing. For (3), please refer to https://www.tensorflow.org/guide/function#controlling_retracing and https://www.tensorflow.org/api_docs/python/tf/function for  more details.\n"
          ],
          "name": "stdout"
        },
        {
          "output_type": "stream",
          "text": [
            "WARNING:tensorflow:7 out of the last 9 calls to <function recreate_function.<locals>.restored_function_body at 0x7fa805559510> triggered tf.function retracing. Tracing is expensive and the excessive number of tracings could be due to (1) creating @tf.function repeatedly in a loop, (2) passing tensors with different shapes, (3) passing Python objects instead of tensors. For (1), please define your @tf.function outside of the loop. For (2), @tf.function has experimental_relax_shapes=True option that relaxes argument shapes that can avoid unnecessary retracing. For (3), please refer to https://www.tensorflow.org/guide/function#controlling_retracing and https://www.tensorflow.org/api_docs/python/tf/function for  more details.\n"
          ],
          "name": "stderr"
        }
      ]
    },
    {
      "cell_type": "code",
      "metadata": {
        "colab": {
          "base_uri": "https://localhost:8080/"
        },
        "id": "ht7rkU7rcxcr",
        "outputId": "6c50a645-7e70-464f-a12d-28680e9546e9"
      },
      "source": [
        "final = np.array(encoded_str)\r\n",
        "final[:3]"
      ],
      "execution_count": 87,
      "outputs": [
        {
          "output_type": "execute_result",
          "data": {
            "text/plain": [
              "array([[ 9.32767615e-03,  1.90732460e-02, -7.31219212e-03,\n",
              "         1.40849473e-02, -7.37197837e-03, -8.89855158e-03,\n",
              "        -2.06369231e-03, -4.53736354e-03, -3.47176660e-03,\n",
              "        -9.11292247e-03, -9.24616586e-03,  4.98202536e-03,\n",
              "         4.40040953e-04,  4.41376964e-04, -4.72436380e-03,\n",
              "         1.73553601e-02,  2.19460833e-03, -9.29635949e-03,\n",
              "         3.76882614e-04, -5.58826048e-03,  6.46041520e-03,\n",
              "         3.62538034e-04,  6.34168135e-03, -2.41714027e-02,\n",
              "         5.88775054e-03,  1.21208653e-03, -7.22304545e-03,\n",
              "        -5.78225031e-03, -1.58772978e-04, -2.29967721e-02,\n",
              "         1.33131929e-02,  1.54866353e-02,  5.52231260e-03,\n",
              "        -1.57608949e-02,  2.23801024e-02,  7.28015183e-03,\n",
              "         8.16249102e-03, -1.42357098e-02,  6.84540300e-03,\n",
              "        -6.86647557e-03, -2.17393562e-02, -1.64093357e-02,\n",
              "         2.91229342e-03,  1.98938027e-02, -2.10035518e-02,\n",
              "        -1.28973380e-03, -3.11646960e-03, -1.28301103e-02,\n",
              "        -5.32301469e-03, -1.11437088e-03, -9.77443345e-03,\n",
              "        -3.78928264e-03,  1.54052302e-02,  1.23152956e-02,\n",
              "        -5.70490025e-03, -1.59518775e-02,  4.12265712e-04,\n",
              "        -1.10376421e-02, -6.21240120e-03,  2.25787517e-02,\n",
              "        -4.08724212e-04,  1.39119802e-03,  5.39444212e-04,\n",
              "         3.34073021e-03, -4.50225733e-03,  1.18703367e-02,\n",
              "         2.98622320e-03,  8.60843516e-04,  1.30430246e-02,\n",
              "         8.05343408e-03,  8.91637336e-03,  1.02594150e-02,\n",
              "         8.68066680e-03, -1.30753696e-03,  1.44317234e-02,\n",
              "         2.54758401e-03,  1.44409761e-02,  5.46050491e-03,\n",
              "         9.02332924e-03,  1.52145224e-02, -8.77058413e-03,\n",
              "        -1.10231806e-02,  9.99426562e-03, -9.86129232e-03,\n",
              "         3.76485114e-04, -2.67732819e-03,  1.00061009e-02,\n",
              "        -2.03296030e-03,  1.01396637e-02, -7.72264879e-03,\n",
              "         1.44909555e-02, -2.72559579e-02,  6.47462439e-04,\n",
              "        -1.05509292e-02,  8.24659225e-03, -2.14918535e-02,\n",
              "         6.70898147e-03,  4.84646298e-03,  1.56306233e-02,\n",
              "        -5.17941965e-03,  5.21233305e-03, -1.23595642e-02,\n",
              "        -4.59289877e-05,  1.73284777e-03,  1.79588422e-02,\n",
              "         2.40925932e-03, -5.82325133e-03, -2.15012152e-02,\n",
              "        -1.31397098e-02,  1.81260351e-02,  2.02845708e-02,\n",
              "         1.58197358e-02, -1.21950347e-03, -1.26461573e-02,\n",
              "        -4.76501090e-03,  5.95569564e-03,  1.26905581e-02,\n",
              "        -1.01575349e-02, -1.17890183e-02,  1.43127274e-02,\n",
              "        -2.24916451e-03, -3.34999827e-03,  1.86126668e-03,\n",
              "         1.06337648e-02, -7.06253340e-04, -1.91998463e-02,\n",
              "         2.92199734e-03, -1.58891622e-02,  1.01116998e-03,\n",
              "         1.62820723e-02,  2.29750946e-02,  1.29496753e-02,\n",
              "        -7.80027732e-03, -1.16599724e-02, -2.22465210e-02,\n",
              "         3.91868036e-03,  5.97078633e-03, -2.96503934e-03,\n",
              "         1.01485671e-02,  1.44361751e-02,  1.66239298e-03,\n",
              "         6.35845028e-03,  1.28909545e-02, -7.80021655e-05,\n",
              "         2.11369134e-02, -5.07348729e-03, -1.38804233e-02,\n",
              "        -1.62449032e-02,  2.85371044e-03,  1.07027413e-02,\n",
              "         1.52908647e-02, -1.92829873e-03, -2.01989082e-03,\n",
              "         1.71114858e-02,  7.74429040e-03,  2.32512178e-03,\n",
              "        -8.99245124e-03, -1.81785766e-02, -2.09780666e-03,\n",
              "         1.02336928e-02, -3.55750718e-03,  2.03828560e-03,\n",
              "         7.96400756e-03,  9.94754676e-03, -2.44617043e-03,\n",
              "         5.16869919e-03,  4.72005364e-03, -3.11973528e-03,\n",
              "         7.64925405e-03,  6.08583121e-03, -2.15289090e-02,\n",
              "         1.48291118e-03, -4.87106619e-03, -2.79956643e-04,\n",
              "         8.42445297e-04,  3.23033798e-03,  2.64778081e-03,\n",
              "        -6.86704461e-03,  1.79965757e-02,  1.90104507e-02,\n",
              "         1.79493986e-02,  1.07261539e-02, -8.72970838e-03,\n",
              "        -6.12116710e-04, -1.33614484e-02, -9.80213634e-04,\n",
              "        -1.47559447e-02, -3.15200700e-03, -1.88843012e-02,\n",
              "        -3.53686884e-03, -7.42508611e-03, -1.61835812e-02,\n",
              "        -9.51033738e-03,  5.09106740e-03,  1.28648067e-02,\n",
              "        -1.14882840e-02, -6.81366725e-03,  6.11769455e-03,\n",
              "         3.56152887e-04,  1.98996197e-02,  7.68532790e-03,\n",
              "        -1.10762324e-02, -1.14266737e-03, -4.68715001e-03,\n",
              "         1.49168549e-02, -8.20007082e-03,  1.76603273e-02,\n",
              "        -5.08072786e-03,  1.12279635e-02,  6.53565023e-03,\n",
              "        -2.48878519e-03, -1.21286949e-02,  2.10484248e-02,\n",
              "         5.36251348e-03,  1.95140869e-03,  9.77123622e-03,\n",
              "        -3.60314921e-03,  2.23425422e-02,  1.05762472e-02,\n",
              "        -2.35356018e-02,  2.30609113e-03,  6.13169791e-03,\n",
              "        -1.59951188e-02, -1.07412552e-02, -1.02494694e-02,\n",
              "         3.95607017e-03,  1.16994968e-02,  1.17047140e-02,\n",
              "         4.12678672e-03,  2.00756993e-02, -1.35971559e-02,\n",
              "         1.26815755e-02,  6.33940659e-03, -4.12036013e-03,\n",
              "        -8.24954826e-03, -1.73616130e-02,  4.82984819e-03,\n",
              "        -2.96480255e-03, -5.88057144e-03,  2.40488839e-03,\n",
              "         1.94156810e-03,  1.16796307e-02, -1.01794684e-02,\n",
              "        -8.33646301e-03, -4.47828975e-03, -9.68469959e-03,\n",
              "         1.05521837e-02, -5.76743670e-03, -1.93589926e-03,\n",
              "        -1.74355432e-02, -1.48680229e-02, -9.11228708e-04,\n",
              "         1.10488096e-02, -6.12888066e-03,  2.89583579e-03,\n",
              "         9.43685789e-03, -1.08953156e-02,  1.51240937e-02,\n",
              "         1.04025286e-03,  5.53606125e-03,  1.10629788e-02,\n",
              "        -5.13936393e-04, -1.00665446e-02, -9.17957816e-03,\n",
              "        -8.05326039e-04,  1.81710497e-02, -7.27051310e-03,\n",
              "        -1.22683896e-02,  1.03446860e-02, -5.92915202e-03,\n",
              "         1.57982670e-02, -1.58007350e-02, -1.57831945e-02,\n",
              "        -1.66755598e-02, -3.10532399e-03,  1.65405020e-03,\n",
              "        -1.49713671e-02,  2.08535697e-02, -1.71653088e-02,\n",
              "        -7.09807035e-04, -1.17432966e-04,  2.83984671e-04,\n",
              "         5.29790949e-03,  8.45093187e-03,  8.20200518e-03,\n",
              "        -1.87009629e-02,  3.25503270e-03, -1.61268900e-03,\n",
              "         1.24788582e-02, -2.38024872e-02,  4.69461875e-03,\n",
              "        -1.94884650e-02, -1.75423175e-02, -6.77981973e-03,\n",
              "         6.33664429e-03, -1.30864587e-02, -7.83725292e-04,\n",
              "         4.60472330e-03, -8.53461772e-03, -1.78951900e-02,\n",
              "        -9.56602115e-03,  6.83297589e-03,  1.07279290e-02,\n",
              "         2.67221034e-03, -1.86291859e-02, -3.85476206e-03,\n",
              "         2.30209809e-02,  8.64209607e-03, -5.05717099e-03,\n",
              "         8.32891650e-03,  8.57211836e-03, -1.89703256e-02,\n",
              "        -5.60658891e-03,  1.85576808e-02,  1.35717494e-02,\n",
              "        -1.25119817e-02,  2.63651088e-03,  2.50014663e-03,\n",
              "         2.64554634e-03,  4.62816388e-04,  5.90917829e-04,\n",
              "        -1.03191175e-02,  5.60965529e-03,  4.08120453e-03,\n",
              "        -4.17308463e-03,  2.02772077e-02, -9.26403888e-03,\n",
              "        -1.82546675e-02, -7.13048503e-03, -1.20500186e-02,\n",
              "        -5.49103972e-03,  2.42363825e-03, -3.23003740e-03,\n",
              "         1.37233743e-02,  1.95246860e-02,  3.06867599e-03,\n",
              "         9.02766548e-03, -2.29815785e-02, -9.88415908e-03,\n",
              "         1.50886523e-02,  7.19593232e-03,  6.72031380e-03,\n",
              "        -9.97577701e-03, -1.18128601e-02,  1.11834584e-02,\n",
              "         7.60223111e-03,  4.99606272e-03,  3.99323460e-03,\n",
              "         6.36566151e-03, -1.84437744e-02, -3.48663703e-03,\n",
              "        -2.45903037e-03,  1.81014976e-03, -5.41044166e-03,\n",
              "         6.65231328e-03,  9.04209074e-03, -1.49838831e-02,\n",
              "         8.33433401e-03, -8.16448405e-03, -1.12780025e-02,\n",
              "        -1.04218367e-02, -2.06882935e-02, -2.95873359e-03,\n",
              "         1.07786190e-02, -1.50390826e-02, -9.30979196e-03,\n",
              "         3.17280623e-03, -1.82682816e-02,  1.51209673e-03,\n",
              "         6.07525464e-03, -9.61320847e-03, -1.10551547e-02,\n",
              "        -7.68400915e-03, -1.79811195e-02, -8.53809901e-03,\n",
              "         2.32494380e-02, -1.00585641e-02,  2.31057405e-02,\n",
              "        -1.20713245e-02, -8.59469175e-03, -7.06578698e-03,\n",
              "         2.11829599e-02,  1.57050285e-02, -2.30067633e-02,\n",
              "         3.84250004e-03,  5.75349154e-03, -1.93216130e-02,\n",
              "        -4.55053087e-04, -1.76056754e-03,  6.72353944e-03,\n",
              "         1.65076205e-03, -1.75570720e-03,  1.36313401e-03,\n",
              "        -1.04042161e-02,  2.43937559e-02, -8.67960695e-03,\n",
              "        -3.59204807e-03, -2.29320722e-04,  4.27915575e-03,\n",
              "        -9.11628548e-03,  1.65518187e-02,  1.25540690e-02,\n",
              "        -4.16215073e-04, -7.90192932e-03,  4.43048356e-03,\n",
              "        -6.94187358e-03,  3.49357235e-03,  4.66877641e-03,\n",
              "        -2.43662461e-03,  1.77586544e-02,  5.04105003e-04,\n",
              "        -4.70970059e-03, -5.14419575e-04, -8.84980429e-03,\n",
              "        -5.08342683e-03,  2.44594808e-03, -1.00700269e-02,\n",
              "         1.48175647e-02,  3.37576657e-03, -9.22361668e-03,\n",
              "        -5.45298867e-03,  1.97349768e-03,  1.05009030e-03,\n",
              "        -4.64725588e-03, -1.30518600e-02,  4.26232489e-03,\n",
              "         1.89584941e-02, -2.79978849e-03, -1.41758854e-02,\n",
              "         8.52873176e-03,  1.33386701e-02,  2.16556992e-03,\n",
              "         1.04562775e-03, -6.31865114e-03,  9.58454795e-03,\n",
              "        -3.92379332e-03,  9.90108121e-03,  2.14091013e-03,\n",
              "        -5.05137397e-03, -2.78526638e-03, -8.53532646e-03,\n",
              "        -9.47920606e-03,  1.63538270e-02, -8.10561702e-03,\n",
              "         1.84136685e-02,  7.64760654e-04, -1.37197189e-02,\n",
              "        -1.37570184e-02,  5.00252144e-03,  5.16722118e-03,\n",
              "         1.66605692e-02,  1.31771723e-02, -5.89556014e-03,\n",
              "         4.31840355e-03,  4.67492081e-03, -1.51923876e-02,\n",
              "        -1.52184032e-02, -1.04773343e-02,  2.50393599e-02,\n",
              "         1.95937641e-02,  1.11440029e-02,  1.29424622e-02,\n",
              "         1.26600973e-02,  2.13005878e-02, -1.13366889e-02,\n",
              "        -1.51324226e-02,  2.48096846e-02,  6.94225123e-03,\n",
              "         1.10762264e-03,  1.34957852e-02, -1.12816477e-02,\n",
              "         1.89438928e-02, -2.30923574e-03, -1.73778031e-02,\n",
              "        -2.08099224e-02,  7.90122896e-03,  8.65585264e-03,\n",
              "         7.95409828e-03, -2.76100077e-03,  1.11156553e-02,\n",
              "        -1.24829309e-02, -7.98279699e-03, -7.46337057e-04,\n",
              "         1.14076529e-02, -7.44020659e-03, -1.02556227e-02,\n",
              "        -1.48244221e-02, -7.15282559e-03,  6.29892526e-03,\n",
              "        -1.66722164e-02, -5.57427388e-03,  1.41245993e-02,\n",
              "        -5.62355947e-03, -5.44710318e-03, -1.19377242e-03,\n",
              "        -4.01056092e-03, -2.26518163e-03, -2.34903232e-03,\n",
              "         2.05386872e-03, -1.40085695e-02,  2.50108284e-03,\n",
              "         1.80612337e-02,  1.19739696e-02, -1.07580367e-02,\n",
              "         1.02896756e-02, -8.90659634e-03, -1.44482022e-02,\n",
              "         1.62219852e-02,  8.30947328e-03, -3.19140707e-03,\n",
              "        -1.64314546e-03,  1.76729504e-02,  7.79247563e-03,\n",
              "         8.82988796e-03,  3.61434394e-03, -1.48384059e-02,\n",
              "         1.24077378e-02, -1.72475986e-02, -1.00929355e-02,\n",
              "        -1.25855831e-02, -2.27383357e-02,  2.42182873e-02,\n",
              "        -6.97269337e-03, -1.11120110e-02, -8.30843020e-03,\n",
              "        -1.56148952e-02, -7.98144750e-03,  1.32435765e-02,\n",
              "         2.37193797e-03, -1.29053555e-03, -6.43819571e-04,\n",
              "        -1.87199051e-03, -6.43232325e-03, -6.93863910e-03,\n",
              "         9.99951363e-03,  1.50617510e-02,  5.65725984e-03,\n",
              "        -8.73912219e-03,  7.79459160e-03,  9.15743411e-03,\n",
              "        -9.87540558e-03, -1.62614416e-02,  3.28829675e-03,\n",
              "         1.22256102e-02, -1.33752066e-03,  2.82494277e-02,\n",
              "         3.06231040e-03, -4.66163736e-03,  8.48749839e-03,\n",
              "         2.46479805e-03,  1.88021678e-02,  8.10429733e-03,\n",
              "        -7.26165541e-04,  3.41304741e-03, -1.13309929e-02,\n",
              "         3.63449357e-03,  4.01737430e-04, -9.90602188e-03,\n",
              "        -1.09743942e-02, -1.51281375e-02, -5.73895499e-03,\n",
              "        -8.12410377e-03,  1.76517176e-03,  1.30237108e-02,\n",
              "        -2.39050249e-03,  1.14326850e-02, -4.15536528e-03,\n",
              "        -1.84422755e-03,  8.57972261e-03, -1.90618169e-02,\n",
              "        -7.78358383e-03,  8.22635368e-03,  2.01042811e-03,\n",
              "         9.52532515e-03, -1.05183600e-02,  1.56723969e-02,\n",
              "        -1.80043578e-02, -4.34758840e-03,  6.28882600e-03,\n",
              "        -4.68693813e-03, -1.20805539e-02, -7.33643537e-03,\n",
              "        -7.04731140e-03, -4.58118506e-03,  1.55909723e-02,\n",
              "         7.17367511e-03,  1.50052067e-02,  4.53333789e-03,\n",
              "        -2.30312301e-03,  6.96965784e-04, -2.17263051e-03,\n",
              "        -6.54762890e-03,  5.82355168e-03,  2.91654025e-03,\n",
              "         7.17320666e-03, -4.09206463e-04, -1.64238997e-02,\n",
              "        -1.31769301e-02, -3.88627616e-03,  4.10717772e-03,\n",
              "         4.57306020e-03,  2.17310572e-03, -2.20544520e-03,\n",
              "         9.51983384e-05,  1.38024823e-03,  5.72955702e-03,\n",
              "         4.90964483e-03, -6.12566713e-03, -5.84141677e-03,\n",
              "         1.19894370e-03,  7.58088985e-03,  3.54546658e-03,\n",
              "         5.02330577e-03,  1.25592640e-02, -2.81418115e-03,\n",
              "        -7.78118568e-03, -1.33703640e-02, -1.57579426e-02,\n",
              "        -1.36963176e-02, -1.13002106e-03,  6.59387885e-03,\n",
              "         2.48826798e-02, -4.42865677e-03, -7.11850636e-03,\n",
              "         1.20479073e-02, -4.29497100e-03,  1.40913799e-02,\n",
              "         1.92492325e-02,  1.50109250e-02, -1.86785553e-02,\n",
              "        -1.99842118e-02, -1.82480607e-02, -1.55006358e-02,\n",
              "        -2.77237850e-03, -2.11179815e-02, -1.22393547e-02,\n",
              "        -7.57959718e-03, -6.77094609e-03,  5.44419885e-03,\n",
              "         1.31522759e-03, -4.63075051e-03,  1.60332900e-02,\n",
              "        -9.55704227e-03,  1.31547162e-02, -2.07385253e-02,\n",
              "         1.58977089e-03, -5.97304478e-03,  1.74125517e-03,\n",
              "         3.09184589e-03,  3.12799076e-03, -5.73179126e-03,\n",
              "         1.76637210e-02, -9.45435930e-03,  8.52515642e-03,\n",
              "        -1.56479422e-02, -1.23854522e-02, -1.05880073e-03,\n",
              "         2.07947902e-02,  4.93355421e-03,  1.87946744e-02,\n",
              "         1.82894839e-03, -1.75571330e-02,  1.52149228e-02,\n",
              "        -1.48227755e-02, -5.90029405e-03,  4.20049019e-03,\n",
              "         2.87677068e-03, -3.02388659e-03, -2.25453973e-02,\n",
              "         1.11308871e-02,  1.16519751e-02, -1.66931506e-02,\n",
              "        -8.62052012e-03, -7.05388002e-03,  3.44860135e-03,\n",
              "        -2.77222227e-03, -1.95666775e-02,  1.51873576e-02,\n",
              "         5.48060797e-03,  5.61055960e-04, -9.67465900e-03,\n",
              "        -5.37118688e-03, -1.22372247e-02, -1.05105778e-02,\n",
              "        -1.06826639e-02, -1.76066102e-03, -9.76772700e-03,\n",
              "         1.51441377e-02,  8.54501594e-03, -7.68711790e-03,\n",
              "        -1.06163567e-03,  1.60468742e-02, -1.05716456e-02,\n",
              "         5.23209479e-03, -1.23212133e-02, -2.18821112e-02,\n",
              "        -1.22804893e-03, -9.16840415e-03, -9.10219271e-03,\n",
              "         1.51565624e-03,  4.97460691e-03, -3.38692777e-03,\n",
              "         4.23528533e-03,  1.84661224e-02, -1.26726506e-02,\n",
              "        -1.19964276e-02,  1.48964617e-02,  1.99671648e-03,\n",
              "         3.62212188e-04,  1.25417961e-02,  2.67020450e-03,\n",
              "         1.52778868e-02,  1.87908318e-02, -2.13061459e-03,\n",
              "         2.74533089e-02, -5.56741655e-03, -8.62147845e-03,\n",
              "        -2.21258611e-04,  2.14792285e-02, -5.15695196e-03,\n",
              "        -1.18210008e-02,  1.39717348e-02,  2.06159335e-03,\n",
              "         3.82135389e-03,  1.65785924e-02,  5.01316320e-03,\n",
              "        -4.75555286e-03,  5.70304226e-03, -3.80597007e-03,\n",
              "         1.12504950e-02, -1.69415139e-02, -3.87493754e-03,\n",
              "        -3.56943160e-03, -2.05378849e-02, -1.59802474e-02,\n",
              "         1.40788301e-03, -7.91047700e-03,  3.11649381e-03,\n",
              "         1.31737767e-02,  2.86831800e-03, -1.75871681e-02,\n",
              "        -1.91915203e-02, -6.90619461e-03, -4.59852722e-03,\n",
              "        -1.07453745e-02, -8.05632584e-03, -1.90481208e-02,\n",
              "        -7.16653885e-03, -1.51791880e-02,  1.92954931e-02,\n",
              "        -1.04686955e-03,  1.54783018e-03, -1.47530716e-02,\n",
              "         1.88546069e-02,  1.24713406e-02,  1.29901441e-02,\n",
              "         1.16303028e-03,  2.90618395e-04,  6.55313395e-03,\n",
              "         4.21554036e-03,  1.74911506e-02,  7.95987528e-03,\n",
              "        -7.49578606e-03, -7.22907996e-03,  1.14134010e-02,\n",
              "        -1.97080132e-02, -9.61845461e-03, -1.10244332e-02]], dtype=float32)"
            ]
          },
          "metadata": {
            "tags": []
          },
          "execution_count": 87
        }
      ]
    },
    {
      "cell_type": "code",
      "metadata": {
        "colab": {
          "base_uri": "https://localhost:8080/"
        },
        "id": "Qh_IuQJpdF8t",
        "outputId": "ec380158-caa2-4123-8a23-4f961032aa96"
      },
      "source": [
        "encoded_str"
      ],
      "execution_count": 88,
      "outputs": [
        {
          "output_type": "execute_result",
          "data": {
            "text/plain": [
              "<tf.Tensor: shape=(1, 768), dtype=float32, numpy=\n",
              "array([[ 9.32767615e-03,  1.90732460e-02, -7.31219212e-03,\n",
              "         1.40849473e-02, -7.37197837e-03, -8.89855158e-03,\n",
              "        -2.06369231e-03, -4.53736354e-03, -3.47176660e-03,\n",
              "        -9.11292247e-03, -9.24616586e-03,  4.98202536e-03,\n",
              "         4.40040953e-04,  4.41376964e-04, -4.72436380e-03,\n",
              "         1.73553601e-02,  2.19460833e-03, -9.29635949e-03,\n",
              "         3.76882614e-04, -5.58826048e-03,  6.46041520e-03,\n",
              "         3.62538034e-04,  6.34168135e-03, -2.41714027e-02,\n",
              "         5.88775054e-03,  1.21208653e-03, -7.22304545e-03,\n",
              "        -5.78225031e-03, -1.58772978e-04, -2.29967721e-02,\n",
              "         1.33131929e-02,  1.54866353e-02,  5.52231260e-03,\n",
              "        -1.57608949e-02,  2.23801024e-02,  7.28015183e-03,\n",
              "         8.16249102e-03, -1.42357098e-02,  6.84540300e-03,\n",
              "        -6.86647557e-03, -2.17393562e-02, -1.64093357e-02,\n",
              "         2.91229342e-03,  1.98938027e-02, -2.10035518e-02,\n",
              "        -1.28973380e-03, -3.11646960e-03, -1.28301103e-02,\n",
              "        -5.32301469e-03, -1.11437088e-03, -9.77443345e-03,\n",
              "        -3.78928264e-03,  1.54052302e-02,  1.23152956e-02,\n",
              "        -5.70490025e-03, -1.59518775e-02,  4.12265712e-04,\n",
              "        -1.10376421e-02, -6.21240120e-03,  2.25787517e-02,\n",
              "        -4.08724212e-04,  1.39119802e-03,  5.39444212e-04,\n",
              "         3.34073021e-03, -4.50225733e-03,  1.18703367e-02,\n",
              "         2.98622320e-03,  8.60843516e-04,  1.30430246e-02,\n",
              "         8.05343408e-03,  8.91637336e-03,  1.02594150e-02,\n",
              "         8.68066680e-03, -1.30753696e-03,  1.44317234e-02,\n",
              "         2.54758401e-03,  1.44409761e-02,  5.46050491e-03,\n",
              "         9.02332924e-03,  1.52145224e-02, -8.77058413e-03,\n",
              "        -1.10231806e-02,  9.99426562e-03, -9.86129232e-03,\n",
              "         3.76485114e-04, -2.67732819e-03,  1.00061009e-02,\n",
              "        -2.03296030e-03,  1.01396637e-02, -7.72264879e-03,\n",
              "         1.44909555e-02, -2.72559579e-02,  6.47462439e-04,\n",
              "        -1.05509292e-02,  8.24659225e-03, -2.14918535e-02,\n",
              "         6.70898147e-03,  4.84646298e-03,  1.56306233e-02,\n",
              "        -5.17941965e-03,  5.21233305e-03, -1.23595642e-02,\n",
              "        -4.59289877e-05,  1.73284777e-03,  1.79588422e-02,\n",
              "         2.40925932e-03, -5.82325133e-03, -2.15012152e-02,\n",
              "        -1.31397098e-02,  1.81260351e-02,  2.02845708e-02,\n",
              "         1.58197358e-02, -1.21950347e-03, -1.26461573e-02,\n",
              "        -4.76501090e-03,  5.95569564e-03,  1.26905581e-02,\n",
              "        -1.01575349e-02, -1.17890183e-02,  1.43127274e-02,\n",
              "        -2.24916451e-03, -3.34999827e-03,  1.86126668e-03,\n",
              "         1.06337648e-02, -7.06253340e-04, -1.91998463e-02,\n",
              "         2.92199734e-03, -1.58891622e-02,  1.01116998e-03,\n",
              "         1.62820723e-02,  2.29750946e-02,  1.29496753e-02,\n",
              "        -7.80027732e-03, -1.16599724e-02, -2.22465210e-02,\n",
              "         3.91868036e-03,  5.97078633e-03, -2.96503934e-03,\n",
              "         1.01485671e-02,  1.44361751e-02,  1.66239298e-03,\n",
              "         6.35845028e-03,  1.28909545e-02, -7.80021655e-05,\n",
              "         2.11369134e-02, -5.07348729e-03, -1.38804233e-02,\n",
              "        -1.62449032e-02,  2.85371044e-03,  1.07027413e-02,\n",
              "         1.52908647e-02, -1.92829873e-03, -2.01989082e-03,\n",
              "         1.71114858e-02,  7.74429040e-03,  2.32512178e-03,\n",
              "        -8.99245124e-03, -1.81785766e-02, -2.09780666e-03,\n",
              "         1.02336928e-02, -3.55750718e-03,  2.03828560e-03,\n",
              "         7.96400756e-03,  9.94754676e-03, -2.44617043e-03,\n",
              "         5.16869919e-03,  4.72005364e-03, -3.11973528e-03,\n",
              "         7.64925405e-03,  6.08583121e-03, -2.15289090e-02,\n",
              "         1.48291118e-03, -4.87106619e-03, -2.79956643e-04,\n",
              "         8.42445297e-04,  3.23033798e-03,  2.64778081e-03,\n",
              "        -6.86704461e-03,  1.79965757e-02,  1.90104507e-02,\n",
              "         1.79493986e-02,  1.07261539e-02, -8.72970838e-03,\n",
              "        -6.12116710e-04, -1.33614484e-02, -9.80213634e-04,\n",
              "        -1.47559447e-02, -3.15200700e-03, -1.88843012e-02,\n",
              "        -3.53686884e-03, -7.42508611e-03, -1.61835812e-02,\n",
              "        -9.51033738e-03,  5.09106740e-03,  1.28648067e-02,\n",
              "        -1.14882840e-02, -6.81366725e-03,  6.11769455e-03,\n",
              "         3.56152887e-04,  1.98996197e-02,  7.68532790e-03,\n",
              "        -1.10762324e-02, -1.14266737e-03, -4.68715001e-03,\n",
              "         1.49168549e-02, -8.20007082e-03,  1.76603273e-02,\n",
              "        -5.08072786e-03,  1.12279635e-02,  6.53565023e-03,\n",
              "        -2.48878519e-03, -1.21286949e-02,  2.10484248e-02,\n",
              "         5.36251348e-03,  1.95140869e-03,  9.77123622e-03,\n",
              "        -3.60314921e-03,  2.23425422e-02,  1.05762472e-02,\n",
              "        -2.35356018e-02,  2.30609113e-03,  6.13169791e-03,\n",
              "        -1.59951188e-02, -1.07412552e-02, -1.02494694e-02,\n",
              "         3.95607017e-03,  1.16994968e-02,  1.17047140e-02,\n",
              "         4.12678672e-03,  2.00756993e-02, -1.35971559e-02,\n",
              "         1.26815755e-02,  6.33940659e-03, -4.12036013e-03,\n",
              "        -8.24954826e-03, -1.73616130e-02,  4.82984819e-03,\n",
              "        -2.96480255e-03, -5.88057144e-03,  2.40488839e-03,\n",
              "         1.94156810e-03,  1.16796307e-02, -1.01794684e-02,\n",
              "        -8.33646301e-03, -4.47828975e-03, -9.68469959e-03,\n",
              "         1.05521837e-02, -5.76743670e-03, -1.93589926e-03,\n",
              "        -1.74355432e-02, -1.48680229e-02, -9.11228708e-04,\n",
              "         1.10488096e-02, -6.12888066e-03,  2.89583579e-03,\n",
              "         9.43685789e-03, -1.08953156e-02,  1.51240937e-02,\n",
              "         1.04025286e-03,  5.53606125e-03,  1.10629788e-02,\n",
              "        -5.13936393e-04, -1.00665446e-02, -9.17957816e-03,\n",
              "        -8.05326039e-04,  1.81710497e-02, -7.27051310e-03,\n",
              "        -1.22683896e-02,  1.03446860e-02, -5.92915202e-03,\n",
              "         1.57982670e-02, -1.58007350e-02, -1.57831945e-02,\n",
              "        -1.66755598e-02, -3.10532399e-03,  1.65405020e-03,\n",
              "        -1.49713671e-02,  2.08535697e-02, -1.71653088e-02,\n",
              "        -7.09807035e-04, -1.17432966e-04,  2.83984671e-04,\n",
              "         5.29790949e-03,  8.45093187e-03,  8.20200518e-03,\n",
              "        -1.87009629e-02,  3.25503270e-03, -1.61268900e-03,\n",
              "         1.24788582e-02, -2.38024872e-02,  4.69461875e-03,\n",
              "        -1.94884650e-02, -1.75423175e-02, -6.77981973e-03,\n",
              "         6.33664429e-03, -1.30864587e-02, -7.83725292e-04,\n",
              "         4.60472330e-03, -8.53461772e-03, -1.78951900e-02,\n",
              "        -9.56602115e-03,  6.83297589e-03,  1.07279290e-02,\n",
              "         2.67221034e-03, -1.86291859e-02, -3.85476206e-03,\n",
              "         2.30209809e-02,  8.64209607e-03, -5.05717099e-03,\n",
              "         8.32891650e-03,  8.57211836e-03, -1.89703256e-02,\n",
              "        -5.60658891e-03,  1.85576808e-02,  1.35717494e-02,\n",
              "        -1.25119817e-02,  2.63651088e-03,  2.50014663e-03,\n",
              "         2.64554634e-03,  4.62816388e-04,  5.90917829e-04,\n",
              "        -1.03191175e-02,  5.60965529e-03,  4.08120453e-03,\n",
              "        -4.17308463e-03,  2.02772077e-02, -9.26403888e-03,\n",
              "        -1.82546675e-02, -7.13048503e-03, -1.20500186e-02,\n",
              "        -5.49103972e-03,  2.42363825e-03, -3.23003740e-03,\n",
              "         1.37233743e-02,  1.95246860e-02,  3.06867599e-03,\n",
              "         9.02766548e-03, -2.29815785e-02, -9.88415908e-03,\n",
              "         1.50886523e-02,  7.19593232e-03,  6.72031380e-03,\n",
              "        -9.97577701e-03, -1.18128601e-02,  1.11834584e-02,\n",
              "         7.60223111e-03,  4.99606272e-03,  3.99323460e-03,\n",
              "         6.36566151e-03, -1.84437744e-02, -3.48663703e-03,\n",
              "        -2.45903037e-03,  1.81014976e-03, -5.41044166e-03,\n",
              "         6.65231328e-03,  9.04209074e-03, -1.49838831e-02,\n",
              "         8.33433401e-03, -8.16448405e-03, -1.12780025e-02,\n",
              "        -1.04218367e-02, -2.06882935e-02, -2.95873359e-03,\n",
              "         1.07786190e-02, -1.50390826e-02, -9.30979196e-03,\n",
              "         3.17280623e-03, -1.82682816e-02,  1.51209673e-03,\n",
              "         6.07525464e-03, -9.61320847e-03, -1.10551547e-02,\n",
              "        -7.68400915e-03, -1.79811195e-02, -8.53809901e-03,\n",
              "         2.32494380e-02, -1.00585641e-02,  2.31057405e-02,\n",
              "        -1.20713245e-02, -8.59469175e-03, -7.06578698e-03,\n",
              "         2.11829599e-02,  1.57050285e-02, -2.30067633e-02,\n",
              "         3.84250004e-03,  5.75349154e-03, -1.93216130e-02,\n",
              "        -4.55053087e-04, -1.76056754e-03,  6.72353944e-03,\n",
              "         1.65076205e-03, -1.75570720e-03,  1.36313401e-03,\n",
              "        -1.04042161e-02,  2.43937559e-02, -8.67960695e-03,\n",
              "        -3.59204807e-03, -2.29320722e-04,  4.27915575e-03,\n",
              "        -9.11628548e-03,  1.65518187e-02,  1.25540690e-02,\n",
              "        -4.16215073e-04, -7.90192932e-03,  4.43048356e-03,\n",
              "        -6.94187358e-03,  3.49357235e-03,  4.66877641e-03,\n",
              "        -2.43662461e-03,  1.77586544e-02,  5.04105003e-04,\n",
              "        -4.70970059e-03, -5.14419575e-04, -8.84980429e-03,\n",
              "        -5.08342683e-03,  2.44594808e-03, -1.00700269e-02,\n",
              "         1.48175647e-02,  3.37576657e-03, -9.22361668e-03,\n",
              "        -5.45298867e-03,  1.97349768e-03,  1.05009030e-03,\n",
              "        -4.64725588e-03, -1.30518600e-02,  4.26232489e-03,\n",
              "         1.89584941e-02, -2.79978849e-03, -1.41758854e-02,\n",
              "         8.52873176e-03,  1.33386701e-02,  2.16556992e-03,\n",
              "         1.04562775e-03, -6.31865114e-03,  9.58454795e-03,\n",
              "        -3.92379332e-03,  9.90108121e-03,  2.14091013e-03,\n",
              "        -5.05137397e-03, -2.78526638e-03, -8.53532646e-03,\n",
              "        -9.47920606e-03,  1.63538270e-02, -8.10561702e-03,\n",
              "         1.84136685e-02,  7.64760654e-04, -1.37197189e-02,\n",
              "        -1.37570184e-02,  5.00252144e-03,  5.16722118e-03,\n",
              "         1.66605692e-02,  1.31771723e-02, -5.89556014e-03,\n",
              "         4.31840355e-03,  4.67492081e-03, -1.51923876e-02,\n",
              "        -1.52184032e-02, -1.04773343e-02,  2.50393599e-02,\n",
              "         1.95937641e-02,  1.11440029e-02,  1.29424622e-02,\n",
              "         1.26600973e-02,  2.13005878e-02, -1.13366889e-02,\n",
              "        -1.51324226e-02,  2.48096846e-02,  6.94225123e-03,\n",
              "         1.10762264e-03,  1.34957852e-02, -1.12816477e-02,\n",
              "         1.89438928e-02, -2.30923574e-03, -1.73778031e-02,\n",
              "        -2.08099224e-02,  7.90122896e-03,  8.65585264e-03,\n",
              "         7.95409828e-03, -2.76100077e-03,  1.11156553e-02,\n",
              "        -1.24829309e-02, -7.98279699e-03, -7.46337057e-04,\n",
              "         1.14076529e-02, -7.44020659e-03, -1.02556227e-02,\n",
              "        -1.48244221e-02, -7.15282559e-03,  6.29892526e-03,\n",
              "        -1.66722164e-02, -5.57427388e-03,  1.41245993e-02,\n",
              "        -5.62355947e-03, -5.44710318e-03, -1.19377242e-03,\n",
              "        -4.01056092e-03, -2.26518163e-03, -2.34903232e-03,\n",
              "         2.05386872e-03, -1.40085695e-02,  2.50108284e-03,\n",
              "         1.80612337e-02,  1.19739696e-02, -1.07580367e-02,\n",
              "         1.02896756e-02, -8.90659634e-03, -1.44482022e-02,\n",
              "         1.62219852e-02,  8.30947328e-03, -3.19140707e-03,\n",
              "        -1.64314546e-03,  1.76729504e-02,  7.79247563e-03,\n",
              "         8.82988796e-03,  3.61434394e-03, -1.48384059e-02,\n",
              "         1.24077378e-02, -1.72475986e-02, -1.00929355e-02,\n",
              "        -1.25855831e-02, -2.27383357e-02,  2.42182873e-02,\n",
              "        -6.97269337e-03, -1.11120110e-02, -8.30843020e-03,\n",
              "        -1.56148952e-02, -7.98144750e-03,  1.32435765e-02,\n",
              "         2.37193797e-03, -1.29053555e-03, -6.43819571e-04,\n",
              "        -1.87199051e-03, -6.43232325e-03, -6.93863910e-03,\n",
              "         9.99951363e-03,  1.50617510e-02,  5.65725984e-03,\n",
              "        -8.73912219e-03,  7.79459160e-03,  9.15743411e-03,\n",
              "        -9.87540558e-03, -1.62614416e-02,  3.28829675e-03,\n",
              "         1.22256102e-02, -1.33752066e-03,  2.82494277e-02,\n",
              "         3.06231040e-03, -4.66163736e-03,  8.48749839e-03,\n",
              "         2.46479805e-03,  1.88021678e-02,  8.10429733e-03,\n",
              "        -7.26165541e-04,  3.41304741e-03, -1.13309929e-02,\n",
              "         3.63449357e-03,  4.01737430e-04, -9.90602188e-03,\n",
              "        -1.09743942e-02, -1.51281375e-02, -5.73895499e-03,\n",
              "        -8.12410377e-03,  1.76517176e-03,  1.30237108e-02,\n",
              "        -2.39050249e-03,  1.14326850e-02, -4.15536528e-03,\n",
              "        -1.84422755e-03,  8.57972261e-03, -1.90618169e-02,\n",
              "        -7.78358383e-03,  8.22635368e-03,  2.01042811e-03,\n",
              "         9.52532515e-03, -1.05183600e-02,  1.56723969e-02,\n",
              "        -1.80043578e-02, -4.34758840e-03,  6.28882600e-03,\n",
              "        -4.68693813e-03, -1.20805539e-02, -7.33643537e-03,\n",
              "        -7.04731140e-03, -4.58118506e-03,  1.55909723e-02,\n",
              "         7.17367511e-03,  1.50052067e-02,  4.53333789e-03,\n",
              "        -2.30312301e-03,  6.96965784e-04, -2.17263051e-03,\n",
              "        -6.54762890e-03,  5.82355168e-03,  2.91654025e-03,\n",
              "         7.17320666e-03, -4.09206463e-04, -1.64238997e-02,\n",
              "        -1.31769301e-02, -3.88627616e-03,  4.10717772e-03,\n",
              "         4.57306020e-03,  2.17310572e-03, -2.20544520e-03,\n",
              "         9.51983384e-05,  1.38024823e-03,  5.72955702e-03,\n",
              "         4.90964483e-03, -6.12566713e-03, -5.84141677e-03,\n",
              "         1.19894370e-03,  7.58088985e-03,  3.54546658e-03,\n",
              "         5.02330577e-03,  1.25592640e-02, -2.81418115e-03,\n",
              "        -7.78118568e-03, -1.33703640e-02, -1.57579426e-02,\n",
              "        -1.36963176e-02, -1.13002106e-03,  6.59387885e-03,\n",
              "         2.48826798e-02, -4.42865677e-03, -7.11850636e-03,\n",
              "         1.20479073e-02, -4.29497100e-03,  1.40913799e-02,\n",
              "         1.92492325e-02,  1.50109250e-02, -1.86785553e-02,\n",
              "        -1.99842118e-02, -1.82480607e-02, -1.55006358e-02,\n",
              "        -2.77237850e-03, -2.11179815e-02, -1.22393547e-02,\n",
              "        -7.57959718e-03, -6.77094609e-03,  5.44419885e-03,\n",
              "         1.31522759e-03, -4.63075051e-03,  1.60332900e-02,\n",
              "        -9.55704227e-03,  1.31547162e-02, -2.07385253e-02,\n",
              "         1.58977089e-03, -5.97304478e-03,  1.74125517e-03,\n",
              "         3.09184589e-03,  3.12799076e-03, -5.73179126e-03,\n",
              "         1.76637210e-02, -9.45435930e-03,  8.52515642e-03,\n",
              "        -1.56479422e-02, -1.23854522e-02, -1.05880073e-03,\n",
              "         2.07947902e-02,  4.93355421e-03,  1.87946744e-02,\n",
              "         1.82894839e-03, -1.75571330e-02,  1.52149228e-02,\n",
              "        -1.48227755e-02, -5.90029405e-03,  4.20049019e-03,\n",
              "         2.87677068e-03, -3.02388659e-03, -2.25453973e-02,\n",
              "         1.11308871e-02,  1.16519751e-02, -1.66931506e-02,\n",
              "        -8.62052012e-03, -7.05388002e-03,  3.44860135e-03,\n",
              "        -2.77222227e-03, -1.95666775e-02,  1.51873576e-02,\n",
              "         5.48060797e-03,  5.61055960e-04, -9.67465900e-03,\n",
              "        -5.37118688e-03, -1.22372247e-02, -1.05105778e-02,\n",
              "        -1.06826639e-02, -1.76066102e-03, -9.76772700e-03,\n",
              "         1.51441377e-02,  8.54501594e-03, -7.68711790e-03,\n",
              "        -1.06163567e-03,  1.60468742e-02, -1.05716456e-02,\n",
              "         5.23209479e-03, -1.23212133e-02, -2.18821112e-02,\n",
              "        -1.22804893e-03, -9.16840415e-03, -9.10219271e-03,\n",
              "         1.51565624e-03,  4.97460691e-03, -3.38692777e-03,\n",
              "         4.23528533e-03,  1.84661224e-02, -1.26726506e-02,\n",
              "        -1.19964276e-02,  1.48964617e-02,  1.99671648e-03,\n",
              "         3.62212188e-04,  1.25417961e-02,  2.67020450e-03,\n",
              "         1.52778868e-02,  1.87908318e-02, -2.13061459e-03,\n",
              "         2.74533089e-02, -5.56741655e-03, -8.62147845e-03,\n",
              "        -2.21258611e-04,  2.14792285e-02, -5.15695196e-03,\n",
              "        -1.18210008e-02,  1.39717348e-02,  2.06159335e-03,\n",
              "         3.82135389e-03,  1.65785924e-02,  5.01316320e-03,\n",
              "        -4.75555286e-03,  5.70304226e-03, -3.80597007e-03,\n",
              "         1.12504950e-02, -1.69415139e-02, -3.87493754e-03,\n",
              "        -3.56943160e-03, -2.05378849e-02, -1.59802474e-02,\n",
              "         1.40788301e-03, -7.91047700e-03,  3.11649381e-03,\n",
              "         1.31737767e-02,  2.86831800e-03, -1.75871681e-02,\n",
              "        -1.91915203e-02, -6.90619461e-03, -4.59852722e-03,\n",
              "        -1.07453745e-02, -8.05632584e-03, -1.90481208e-02,\n",
              "        -7.16653885e-03, -1.51791880e-02,  1.92954931e-02,\n",
              "        -1.04686955e-03,  1.54783018e-03, -1.47530716e-02,\n",
              "         1.88546069e-02,  1.24713406e-02,  1.29901441e-02,\n",
              "         1.16303028e-03,  2.90618395e-04,  6.55313395e-03,\n",
              "         4.21554036e-03,  1.74911506e-02,  7.95987528e-03,\n",
              "        -7.49578606e-03, -7.22907996e-03,  1.14134010e-02,\n",
              "        -1.97080132e-02, -9.61845461e-03, -1.10244332e-02]], dtype=float32)>"
            ]
          },
          "metadata": {
            "tags": []
          },
          "execution_count": 88
        }
      ]
    },
    {
      "cell_type": "code",
      "metadata": {
        "id": "gnHw8n4Uc1ha"
      },
      "source": [
        "pred_ = classifier.predict(final)"
      ],
      "execution_count": 89,
      "outputs": []
    },
    {
      "cell_type": "code",
      "metadata": {
        "colab": {
          "base_uri": "https://localhost:8080/"
        },
        "id": "A4fhMKvHc40x",
        "outputId": "7ae9349d-245d-4105-9d73-969f36dab3d1"
      },
      "source": [
        "pred_"
      ],
      "execution_count": 90,
      "outputs": [
        {
          "output_type": "execute_result",
          "data": {
            "text/plain": [
              "array([1])"
            ]
          },
          "metadata": {
            "tags": []
          },
          "execution_count": 90
        }
      ]
    },
    {
      "cell_type": "code",
      "metadata": {
        "id": "KFFCZpxrc5ZC"
      },
      "source": [
        ""
      ],
      "execution_count": null,
      "outputs": []
    }
  ]
}